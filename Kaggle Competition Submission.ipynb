{
 "cells": [
  {
   "cell_type": "code",
   "execution_count": 1,
   "id": "protecting-maryland",
   "metadata": {
    "_cell_guid": "b1076dfc-b9ad-4769-8c92-a6c4dae69d19",
    "_uuid": "8f2839f25d086af736a60e9eeb907d3b93b6e0e5",
    "execution": {
     "iopub.execute_input": "2021-06-05T12:07:08.387565Z",
     "iopub.status.busy": "2021-06-05T12:07:08.386930Z",
     "iopub.status.idle": "2021-06-05T12:07:10.027986Z",
     "shell.execute_reply": "2021-06-05T12:07:10.028912Z",
     "shell.execute_reply.started": "2021-06-05T12:03:59.444605Z"
    },
    "papermill": {
     "duration": 1.706981,
     "end_time": "2021-06-05T12:07:10.029378",
     "exception": false,
     "start_time": "2021-06-05T12:07:08.322397",
     "status": "completed"
    },
    "tags": []
   },
   "outputs": [
    {
     "name": "stdout",
     "output_type": "stream",
     "text": [
      "/kaggle/input/../input/house-prices-dataset/sample_submission.csv\n",
      "/kaggle/input/../input/house-prices-dataset/data_description.txt\n",
      "/kaggle/input/../input/house-prices-dataset/train.csv\n",
      "/kaggle/input/../input/house-prices-dataset/test.csv\n"
     ]
    }
   ],
   "source": [
    "# This Python 3 environment comes with many helpful analytics libraries installed\n",
    "# It is defined by the kaggle/python Docker image: https://github.com/kaggle/docker-python\n",
    "# For example, here's several helpful packages to load\n",
    "\n",
    "import numpy as np # linear algebra\n",
    "import pandas as pd # data processing, CSV file I/O (e.g. pd.read_csv)\n",
    "import matplotlib as mpl\n",
    "import matplotlib.pyplot as plt\n",
    "import seaborn as sns\n",
    "from sklearn.model_selection import train_test_split\n",
    "from sklearn.metrics import mean_squared_error\n",
    "from sklearn.ensemble import RandomForestRegressor\n",
    "from sklearn.model_selection import GridSearchCV\n",
    "plt.style.use('seaborn')\n",
    "\n",
    "# Input data files are available in the read-only \"../input/\" directory\n",
    "# For example, running this (by clicking run or pressing Shift+Enter) will list all files under the input directory\n",
    "\n",
    "import os\n",
    "for dirname, _, filenames in os.walk('/kaggle/input/../input/house-prices-dataset'):\n",
    "    for filename in filenames:\n",
    "            print(os.path.join(dirname, filename))\n",
    "\n",
    "# You can write up to 20GB to the current directory (/kaggle/working/) that gets preserved as output when you create a version using \"Save & Run All\" \n",
    "# You can also write temporary files to /kaggle/temp/, but they won't be saved outside of the current session"
   ]
  },
  {
   "cell_type": "code",
   "execution_count": 2,
   "id": "single-spank",
   "metadata": {
    "execution": {
     "iopub.execute_input": "2021-06-05T12:07:10.148799Z",
     "iopub.status.busy": "2021-06-05T12:07:10.147890Z",
     "iopub.status.idle": "2021-06-05T12:07:10.151955Z",
     "shell.execute_reply": "2021-06-05T12:07:10.151178Z",
     "shell.execute_reply.started": "2021-06-05T12:03:59.983466Z"
    },
    "papermill": {
     "duration": 0.066039,
     "end_time": "2021-06-05T12:07:10.152125",
     "exception": false,
     "start_time": "2021-06-05T12:07:10.086086",
     "status": "completed"
    },
    "tags": []
   },
   "outputs": [],
   "source": [
    "import warnings\n",
    "import matplotlib.cbook\n",
    "import warnings; warnings.simplefilter('ignore')\n",
    "warnings.filterwarnings(\"ignore\",category=matplotlib.cbook.mplDeprecation)"
   ]
  },
  {
   "cell_type": "markdown",
   "id": "confident-destiny",
   "metadata": {
    "papermill": {
     "duration": 0.05661,
     "end_time": "2021-06-05T12:07:10.264872",
     "exception": false,
     "start_time": "2021-06-05T12:07:10.208262",
     "status": "completed"
    },
    "tags": []
   },
   "source": [
    "## Setting the evaluation functions"
   ]
  },
  {
   "cell_type": "code",
   "execution_count": 3,
   "id": "exotic-plaza",
   "metadata": {
    "execution": {
     "iopub.execute_input": "2021-06-05T12:07:10.383777Z",
     "iopub.status.busy": "2021-06-05T12:07:10.383046Z",
     "iopub.status.idle": "2021-06-05T12:07:10.389386Z",
     "shell.execute_reply": "2021-06-05T12:07:10.389898Z",
     "shell.execute_reply.started": "2021-06-05T12:03:59.992710Z"
    },
    "papermill": {
     "duration": 0.066699,
     "end_time": "2021-06-05T12:07:10.390119",
     "exception": false,
     "start_time": "2021-06-05T12:07:10.323420",
     "status": "completed"
    },
    "tags": []
   },
   "outputs": [],
   "source": [
    "# Defining the Root mean -squared Error metric\n",
    "def metrics(actuals,predictions):\n",
    "    \n",
    "    error=np.sqrt(mean_squared_error(np.log(actuals), np.log(predictions)))\n",
    "    return error\n",
    "\n",
    "from sklearn.metrics import make_scorer\n",
    "rmse = make_scorer(metrics, greater_is_better=False)"
   ]
  },
  {
   "cell_type": "code",
   "execution_count": 4,
   "id": "representative-explorer",
   "metadata": {
    "execution": {
     "iopub.execute_input": "2021-06-05T12:07:10.506220Z",
     "iopub.status.busy": "2021-06-05T12:07:10.505455Z",
     "iopub.status.idle": "2021-06-05T12:07:10.614051Z",
     "shell.execute_reply": "2021-06-05T12:07:10.613404Z",
     "shell.execute_reply.started": "2021-06-05T12:04:00.008724Z"
    },
    "papermill": {
     "duration": 0.167859,
     "end_time": "2021-06-05T12:07:10.614244",
     "exception": false,
     "start_time": "2021-06-05T12:07:10.446385",
     "status": "completed"
    },
    "tags": []
   },
   "outputs": [
    {
     "data": {
      "text/html": [
       "<div>\n",
       "<style scoped>\n",
       "    .dataframe tbody tr th:only-of-type {\n",
       "        vertical-align: middle;\n",
       "    }\n",
       "\n",
       "    .dataframe tbody tr th {\n",
       "        vertical-align: top;\n",
       "    }\n",
       "\n",
       "    .dataframe thead th {\n",
       "        text-align: right;\n",
       "    }\n",
       "</style>\n",
       "<table border=\"1\" class=\"dataframe\">\n",
       "  <thead>\n",
       "    <tr style=\"text-align: right;\">\n",
       "      <th></th>\n",
       "      <th>MSSubClass</th>\n",
       "      <th>MSZoning</th>\n",
       "      <th>LotFrontage</th>\n",
       "      <th>LotArea</th>\n",
       "      <th>Street</th>\n",
       "      <th>Alley</th>\n",
       "      <th>LotShape</th>\n",
       "      <th>LandContour</th>\n",
       "      <th>Utilities</th>\n",
       "      <th>LotConfig</th>\n",
       "      <th>...</th>\n",
       "      <th>PoolArea</th>\n",
       "      <th>PoolQC</th>\n",
       "      <th>Fence</th>\n",
       "      <th>MiscFeature</th>\n",
       "      <th>MiscVal</th>\n",
       "      <th>MoSold</th>\n",
       "      <th>YrSold</th>\n",
       "      <th>SaleType</th>\n",
       "      <th>SaleCondition</th>\n",
       "      <th>SalePrice</th>\n",
       "    </tr>\n",
       "  </thead>\n",
       "  <tbody>\n",
       "    <tr>\n",
       "      <th>0</th>\n",
       "      <td>60</td>\n",
       "      <td>RL</td>\n",
       "      <td>65.0</td>\n",
       "      <td>8450</td>\n",
       "      <td>Pave</td>\n",
       "      <td>NaN</td>\n",
       "      <td>Reg</td>\n",
       "      <td>Lvl</td>\n",
       "      <td>AllPub</td>\n",
       "      <td>Inside</td>\n",
       "      <td>...</td>\n",
       "      <td>0</td>\n",
       "      <td>NaN</td>\n",
       "      <td>NaN</td>\n",
       "      <td>NaN</td>\n",
       "      <td>0</td>\n",
       "      <td>2</td>\n",
       "      <td>2008</td>\n",
       "      <td>WD</td>\n",
       "      <td>Normal</td>\n",
       "      <td>208500</td>\n",
       "    </tr>\n",
       "    <tr>\n",
       "      <th>1</th>\n",
       "      <td>20</td>\n",
       "      <td>RL</td>\n",
       "      <td>80.0</td>\n",
       "      <td>9600</td>\n",
       "      <td>Pave</td>\n",
       "      <td>NaN</td>\n",
       "      <td>Reg</td>\n",
       "      <td>Lvl</td>\n",
       "      <td>AllPub</td>\n",
       "      <td>FR2</td>\n",
       "      <td>...</td>\n",
       "      <td>0</td>\n",
       "      <td>NaN</td>\n",
       "      <td>NaN</td>\n",
       "      <td>NaN</td>\n",
       "      <td>0</td>\n",
       "      <td>5</td>\n",
       "      <td>2007</td>\n",
       "      <td>WD</td>\n",
       "      <td>Normal</td>\n",
       "      <td>181500</td>\n",
       "    </tr>\n",
       "    <tr>\n",
       "      <th>2</th>\n",
       "      <td>60</td>\n",
       "      <td>RL</td>\n",
       "      <td>68.0</td>\n",
       "      <td>11250</td>\n",
       "      <td>Pave</td>\n",
       "      <td>NaN</td>\n",
       "      <td>IR1</td>\n",
       "      <td>Lvl</td>\n",
       "      <td>AllPub</td>\n",
       "      <td>Inside</td>\n",
       "      <td>...</td>\n",
       "      <td>0</td>\n",
       "      <td>NaN</td>\n",
       "      <td>NaN</td>\n",
       "      <td>NaN</td>\n",
       "      <td>0</td>\n",
       "      <td>9</td>\n",
       "      <td>2008</td>\n",
       "      <td>WD</td>\n",
       "      <td>Normal</td>\n",
       "      <td>223500</td>\n",
       "    </tr>\n",
       "    <tr>\n",
       "      <th>3</th>\n",
       "      <td>70</td>\n",
       "      <td>RL</td>\n",
       "      <td>60.0</td>\n",
       "      <td>9550</td>\n",
       "      <td>Pave</td>\n",
       "      <td>NaN</td>\n",
       "      <td>IR1</td>\n",
       "      <td>Lvl</td>\n",
       "      <td>AllPub</td>\n",
       "      <td>Corner</td>\n",
       "      <td>...</td>\n",
       "      <td>0</td>\n",
       "      <td>NaN</td>\n",
       "      <td>NaN</td>\n",
       "      <td>NaN</td>\n",
       "      <td>0</td>\n",
       "      <td>2</td>\n",
       "      <td>2006</td>\n",
       "      <td>WD</td>\n",
       "      <td>Abnorml</td>\n",
       "      <td>140000</td>\n",
       "    </tr>\n",
       "    <tr>\n",
       "      <th>4</th>\n",
       "      <td>60</td>\n",
       "      <td>RL</td>\n",
       "      <td>84.0</td>\n",
       "      <td>14260</td>\n",
       "      <td>Pave</td>\n",
       "      <td>NaN</td>\n",
       "      <td>IR1</td>\n",
       "      <td>Lvl</td>\n",
       "      <td>AllPub</td>\n",
       "      <td>FR2</td>\n",
       "      <td>...</td>\n",
       "      <td>0</td>\n",
       "      <td>NaN</td>\n",
       "      <td>NaN</td>\n",
       "      <td>NaN</td>\n",
       "      <td>0</td>\n",
       "      <td>12</td>\n",
       "      <td>2008</td>\n",
       "      <td>WD</td>\n",
       "      <td>Normal</td>\n",
       "      <td>250000</td>\n",
       "    </tr>\n",
       "  </tbody>\n",
       "</table>\n",
       "<p>5 rows × 80 columns</p>\n",
       "</div>"
      ],
      "text/plain": [
       "   MSSubClass MSZoning  LotFrontage  LotArea Street Alley LotShape  \\\n",
       "0          60       RL         65.0     8450   Pave   NaN      Reg   \n",
       "1          20       RL         80.0     9600   Pave   NaN      Reg   \n",
       "2          60       RL         68.0    11250   Pave   NaN      IR1   \n",
       "3          70       RL         60.0     9550   Pave   NaN      IR1   \n",
       "4          60       RL         84.0    14260   Pave   NaN      IR1   \n",
       "\n",
       "  LandContour Utilities LotConfig  ... PoolArea PoolQC Fence MiscFeature  \\\n",
       "0         Lvl    AllPub    Inside  ...        0    NaN   NaN         NaN   \n",
       "1         Lvl    AllPub       FR2  ...        0    NaN   NaN         NaN   \n",
       "2         Lvl    AllPub    Inside  ...        0    NaN   NaN         NaN   \n",
       "3         Lvl    AllPub    Corner  ...        0    NaN   NaN         NaN   \n",
       "4         Lvl    AllPub       FR2  ...        0    NaN   NaN         NaN   \n",
       "\n",
       "  MiscVal MoSold  YrSold  SaleType  SaleCondition  SalePrice  \n",
       "0       0      2    2008        WD         Normal     208500  \n",
       "1       0      5    2007        WD         Normal     181500  \n",
       "2       0      9    2008        WD         Normal     223500  \n",
       "3       0      2    2006        WD        Abnorml     140000  \n",
       "4       0     12    2008        WD         Normal     250000  \n",
       "\n",
       "[5 rows x 80 columns]"
      ]
     },
     "execution_count": 4,
     "metadata": {},
     "output_type": "execute_result"
    }
   ],
   "source": [
    "# Reading the Training data\n",
    "x_train=pd.read_csv('../input/house-prices-dataset/train.csv')\n",
    "x_train.drop(columns=['Id'],axis=1,inplace=True)\n",
    "x_train.head()"
   ]
  },
  {
   "cell_type": "markdown",
   "id": "fundamental-warning",
   "metadata": {
    "papermill": {
     "duration": 0.056269,
     "end_time": "2021-06-05T12:07:10.727830",
     "exception": false,
     "start_time": "2021-06-05T12:07:10.671561",
     "status": "completed"
    },
    "tags": []
   },
   "source": [
    "## Splitting the training data into train,validation "
   ]
  },
  {
   "cell_type": "code",
   "execution_count": 5,
   "id": "encouraging-indiana",
   "metadata": {
    "execution": {
     "iopub.execute_input": "2021-06-05T12:07:10.873639Z",
     "iopub.status.busy": "2021-06-05T12:07:10.872606Z",
     "iopub.status.idle": "2021-06-05T12:07:10.883159Z",
     "shell.execute_reply": "2021-06-05T12:07:10.883806Z",
     "shell.execute_reply.started": "2021-06-05T12:04:00.093962Z"
    },
    "papermill": {
     "duration": 0.091814,
     "end_time": "2021-06-05T12:07:10.884047",
     "exception": false,
     "start_time": "2021-06-05T12:07:10.792233",
     "status": "completed"
    },
    "tags": []
   },
   "outputs": [],
   "source": [
    "# Since I  dont have any dataset to test our model on unseen dataset. I will\n",
    "# split the training data into train and validation data,so that i can check the performance\n",
    "# of the model on an unseen dataset.\n",
    "x_train,x_val,y_train,y_val=train_test_split(x_train,x_train['SalePrice'],\n",
    "                                             test_size=0.3,random_state=34)"
   ]
  },
  {
   "cell_type": "code",
   "execution_count": 6,
   "id": "metric-comedy",
   "metadata": {
    "execution": {
     "iopub.execute_input": "2021-06-05T12:07:11.006467Z",
     "iopub.status.busy": "2021-06-05T12:07:11.005317Z",
     "iopub.status.idle": "2021-06-05T12:07:11.035298Z",
     "shell.execute_reply": "2021-06-05T12:07:11.035882Z",
     "shell.execute_reply.started": "2021-06-05T12:04:00.107945Z"
    },
    "papermill": {
     "duration": 0.091886,
     "end_time": "2021-06-05T12:07:11.036110",
     "exception": false,
     "start_time": "2021-06-05T12:07:10.944224",
     "status": "completed"
    },
    "tags": []
   },
   "outputs": [
    {
     "data": {
      "text/html": [
       "<div>\n",
       "<style scoped>\n",
       "    .dataframe tbody tr th:only-of-type {\n",
       "        vertical-align: middle;\n",
       "    }\n",
       "\n",
       "    .dataframe tbody tr th {\n",
       "        vertical-align: top;\n",
       "    }\n",
       "\n",
       "    .dataframe thead th {\n",
       "        text-align: right;\n",
       "    }\n",
       "</style>\n",
       "<table border=\"1\" class=\"dataframe\">\n",
       "  <thead>\n",
       "    <tr style=\"text-align: right;\">\n",
       "      <th></th>\n",
       "      <th>MSSubClass</th>\n",
       "      <th>MSZoning</th>\n",
       "      <th>LotFrontage</th>\n",
       "      <th>LotArea</th>\n",
       "      <th>Street</th>\n",
       "      <th>Alley</th>\n",
       "      <th>LotShape</th>\n",
       "      <th>LandContour</th>\n",
       "      <th>Utilities</th>\n",
       "      <th>LotConfig</th>\n",
       "      <th>...</th>\n",
       "      <th>ScreenPorch</th>\n",
       "      <th>PoolArea</th>\n",
       "      <th>PoolQC</th>\n",
       "      <th>Fence</th>\n",
       "      <th>MiscFeature</th>\n",
       "      <th>MiscVal</th>\n",
       "      <th>MoSold</th>\n",
       "      <th>YrSold</th>\n",
       "      <th>SaleType</th>\n",
       "      <th>SaleCondition</th>\n",
       "    </tr>\n",
       "  </thead>\n",
       "  <tbody>\n",
       "    <tr>\n",
       "      <th>1399</th>\n",
       "      <td>50</td>\n",
       "      <td>RL</td>\n",
       "      <td>51.0</td>\n",
       "      <td>6171</td>\n",
       "      <td>Pave</td>\n",
       "      <td>NaN</td>\n",
       "      <td>Reg</td>\n",
       "      <td>Lvl</td>\n",
       "      <td>AllPub</td>\n",
       "      <td>Inside</td>\n",
       "      <td>...</td>\n",
       "      <td>0</td>\n",
       "      <td>0</td>\n",
       "      <td>NaN</td>\n",
       "      <td>MnPrv</td>\n",
       "      <td>NaN</td>\n",
       "      <td>0</td>\n",
       "      <td>10</td>\n",
       "      <td>2009</td>\n",
       "      <td>WD</td>\n",
       "      <td>Normal</td>\n",
       "    </tr>\n",
       "    <tr>\n",
       "      <th>578</th>\n",
       "      <td>160</td>\n",
       "      <td>FV</td>\n",
       "      <td>34.0</td>\n",
       "      <td>3604</td>\n",
       "      <td>Pave</td>\n",
       "      <td>Pave</td>\n",
       "      <td>Reg</td>\n",
       "      <td>Lvl</td>\n",
       "      <td>AllPub</td>\n",
       "      <td>Corner</td>\n",
       "      <td>...</td>\n",
       "      <td>0</td>\n",
       "      <td>0</td>\n",
       "      <td>NaN</td>\n",
       "      <td>NaN</td>\n",
       "      <td>NaN</td>\n",
       "      <td>0</td>\n",
       "      <td>2</td>\n",
       "      <td>2008</td>\n",
       "      <td>WD</td>\n",
       "      <td>Abnorml</td>\n",
       "    </tr>\n",
       "    <tr>\n",
       "      <th>318</th>\n",
       "      <td>60</td>\n",
       "      <td>RL</td>\n",
       "      <td>90.0</td>\n",
       "      <td>9900</td>\n",
       "      <td>Pave</td>\n",
       "      <td>NaN</td>\n",
       "      <td>Reg</td>\n",
       "      <td>Low</td>\n",
       "      <td>AllPub</td>\n",
       "      <td>Inside</td>\n",
       "      <td>...</td>\n",
       "      <td>0</td>\n",
       "      <td>0</td>\n",
       "      <td>NaN</td>\n",
       "      <td>NaN</td>\n",
       "      <td>NaN</td>\n",
       "      <td>0</td>\n",
       "      <td>4</td>\n",
       "      <td>2009</td>\n",
       "      <td>WD</td>\n",
       "      <td>Normal</td>\n",
       "    </tr>\n",
       "    <tr>\n",
       "      <th>1340</th>\n",
       "      <td>20</td>\n",
       "      <td>RL</td>\n",
       "      <td>70.0</td>\n",
       "      <td>8294</td>\n",
       "      <td>Pave</td>\n",
       "      <td>NaN</td>\n",
       "      <td>Reg</td>\n",
       "      <td>Lvl</td>\n",
       "      <td>AllPub</td>\n",
       "      <td>Inside</td>\n",
       "      <td>...</td>\n",
       "      <td>0</td>\n",
       "      <td>0</td>\n",
       "      <td>NaN</td>\n",
       "      <td>GdWo</td>\n",
       "      <td>NaN</td>\n",
       "      <td>0</td>\n",
       "      <td>6</td>\n",
       "      <td>2007</td>\n",
       "      <td>WD</td>\n",
       "      <td>Normal</td>\n",
       "    </tr>\n",
       "    <tr>\n",
       "      <th>654</th>\n",
       "      <td>20</td>\n",
       "      <td>RL</td>\n",
       "      <td>91.0</td>\n",
       "      <td>10437</td>\n",
       "      <td>Pave</td>\n",
       "      <td>NaN</td>\n",
       "      <td>IR1</td>\n",
       "      <td>Lvl</td>\n",
       "      <td>AllPub</td>\n",
       "      <td>Inside</td>\n",
       "      <td>...</td>\n",
       "      <td>0</td>\n",
       "      <td>0</td>\n",
       "      <td>NaN</td>\n",
       "      <td>NaN</td>\n",
       "      <td>NaN</td>\n",
       "      <td>0</td>\n",
       "      <td>8</td>\n",
       "      <td>2008</td>\n",
       "      <td>WD</td>\n",
       "      <td>Normal</td>\n",
       "    </tr>\n",
       "  </tbody>\n",
       "</table>\n",
       "<p>5 rows × 79 columns</p>\n",
       "</div>"
      ],
      "text/plain": [
       "      MSSubClass MSZoning  LotFrontage  LotArea Street Alley LotShape  \\\n",
       "1399          50       RL         51.0     6171   Pave   NaN      Reg   \n",
       "578          160       FV         34.0     3604   Pave  Pave      Reg   \n",
       "318           60       RL         90.0     9900   Pave   NaN      Reg   \n",
       "1340          20       RL         70.0     8294   Pave   NaN      Reg   \n",
       "654           20       RL         91.0    10437   Pave   NaN      IR1   \n",
       "\n",
       "     LandContour Utilities LotConfig  ... ScreenPorch PoolArea PoolQC  Fence  \\\n",
       "1399         Lvl    AllPub    Inside  ...           0        0    NaN  MnPrv   \n",
       "578          Lvl    AllPub    Corner  ...           0        0    NaN    NaN   \n",
       "318          Low    AllPub    Inside  ...           0        0    NaN    NaN   \n",
       "1340         Lvl    AllPub    Inside  ...           0        0    NaN   GdWo   \n",
       "654          Lvl    AllPub    Inside  ...           0        0    NaN    NaN   \n",
       "\n",
       "     MiscFeature MiscVal  MoSold  YrSold  SaleType  SaleCondition  \n",
       "1399         NaN       0      10    2009        WD         Normal  \n",
       "578          NaN       0       2    2008        WD        Abnorml  \n",
       "318          NaN       0       4    2009        WD         Normal  \n",
       "1340         NaN       0       6    2007        WD         Normal  \n",
       "654          NaN       0       8    2008        WD         Normal  \n",
       "\n",
       "[5 rows x 79 columns]"
      ]
     },
     "execution_count": 6,
     "metadata": {},
     "output_type": "execute_result"
    }
   ],
   "source": [
    "# removing the target variable from the validation dataset\n",
    "x_val.drop(columns=['SalePrice'],axis=1,inplace=True)\n",
    "x_val.head()"
   ]
  },
  {
   "cell_type": "code",
   "execution_count": 7,
   "id": "essential-assignment",
   "metadata": {
    "execution": {
     "iopub.execute_input": "2021-06-05T12:07:11.154240Z",
     "iopub.status.busy": "2021-06-05T12:07:11.153540Z",
     "iopub.status.idle": "2021-06-05T12:07:11.224907Z",
     "shell.execute_reply": "2021-06-05T12:07:11.224225Z",
     "shell.execute_reply.started": "2021-06-05T12:04:00.149176Z"
    },
    "papermill": {
     "duration": 0.132219,
     "end_time": "2021-06-05T12:07:11.225063",
     "exception": false,
     "start_time": "2021-06-05T12:07:11.092844",
     "status": "completed"
    },
    "tags": []
   },
   "outputs": [
    {
     "data": {
      "text/html": [
       "<div>\n",
       "<style scoped>\n",
       "    .dataframe tbody tr th:only-of-type {\n",
       "        vertical-align: middle;\n",
       "    }\n",
       "\n",
       "    .dataframe tbody tr th {\n",
       "        vertical-align: top;\n",
       "    }\n",
       "\n",
       "    .dataframe thead th {\n",
       "        text-align: right;\n",
       "    }\n",
       "</style>\n",
       "<table border=\"1\" class=\"dataframe\">\n",
       "  <thead>\n",
       "    <tr style=\"text-align: right;\">\n",
       "      <th></th>\n",
       "      <th>Id</th>\n",
       "      <th>MSSubClass</th>\n",
       "      <th>MSZoning</th>\n",
       "      <th>LotFrontage</th>\n",
       "      <th>LotArea</th>\n",
       "      <th>Street</th>\n",
       "      <th>Alley</th>\n",
       "      <th>LotShape</th>\n",
       "      <th>LandContour</th>\n",
       "      <th>Utilities</th>\n",
       "      <th>...</th>\n",
       "      <th>ScreenPorch</th>\n",
       "      <th>PoolArea</th>\n",
       "      <th>PoolQC</th>\n",
       "      <th>Fence</th>\n",
       "      <th>MiscFeature</th>\n",
       "      <th>MiscVal</th>\n",
       "      <th>MoSold</th>\n",
       "      <th>YrSold</th>\n",
       "      <th>SaleType</th>\n",
       "      <th>SaleCondition</th>\n",
       "    </tr>\n",
       "  </thead>\n",
       "  <tbody>\n",
       "    <tr>\n",
       "      <th>0</th>\n",
       "      <td>1461</td>\n",
       "      <td>20</td>\n",
       "      <td>RH</td>\n",
       "      <td>80.0</td>\n",
       "      <td>11622</td>\n",
       "      <td>Pave</td>\n",
       "      <td>NaN</td>\n",
       "      <td>Reg</td>\n",
       "      <td>Lvl</td>\n",
       "      <td>AllPub</td>\n",
       "      <td>...</td>\n",
       "      <td>120</td>\n",
       "      <td>0</td>\n",
       "      <td>NaN</td>\n",
       "      <td>MnPrv</td>\n",
       "      <td>NaN</td>\n",
       "      <td>0</td>\n",
       "      <td>6</td>\n",
       "      <td>2010</td>\n",
       "      <td>WD</td>\n",
       "      <td>Normal</td>\n",
       "    </tr>\n",
       "    <tr>\n",
       "      <th>1</th>\n",
       "      <td>1462</td>\n",
       "      <td>20</td>\n",
       "      <td>RL</td>\n",
       "      <td>81.0</td>\n",
       "      <td>14267</td>\n",
       "      <td>Pave</td>\n",
       "      <td>NaN</td>\n",
       "      <td>IR1</td>\n",
       "      <td>Lvl</td>\n",
       "      <td>AllPub</td>\n",
       "      <td>...</td>\n",
       "      <td>0</td>\n",
       "      <td>0</td>\n",
       "      <td>NaN</td>\n",
       "      <td>NaN</td>\n",
       "      <td>Gar2</td>\n",
       "      <td>12500</td>\n",
       "      <td>6</td>\n",
       "      <td>2010</td>\n",
       "      <td>WD</td>\n",
       "      <td>Normal</td>\n",
       "    </tr>\n",
       "    <tr>\n",
       "      <th>2</th>\n",
       "      <td>1463</td>\n",
       "      <td>60</td>\n",
       "      <td>RL</td>\n",
       "      <td>74.0</td>\n",
       "      <td>13830</td>\n",
       "      <td>Pave</td>\n",
       "      <td>NaN</td>\n",
       "      <td>IR1</td>\n",
       "      <td>Lvl</td>\n",
       "      <td>AllPub</td>\n",
       "      <td>...</td>\n",
       "      <td>0</td>\n",
       "      <td>0</td>\n",
       "      <td>NaN</td>\n",
       "      <td>MnPrv</td>\n",
       "      <td>NaN</td>\n",
       "      <td>0</td>\n",
       "      <td>3</td>\n",
       "      <td>2010</td>\n",
       "      <td>WD</td>\n",
       "      <td>Normal</td>\n",
       "    </tr>\n",
       "    <tr>\n",
       "      <th>3</th>\n",
       "      <td>1464</td>\n",
       "      <td>60</td>\n",
       "      <td>RL</td>\n",
       "      <td>78.0</td>\n",
       "      <td>9978</td>\n",
       "      <td>Pave</td>\n",
       "      <td>NaN</td>\n",
       "      <td>IR1</td>\n",
       "      <td>Lvl</td>\n",
       "      <td>AllPub</td>\n",
       "      <td>...</td>\n",
       "      <td>0</td>\n",
       "      <td>0</td>\n",
       "      <td>NaN</td>\n",
       "      <td>NaN</td>\n",
       "      <td>NaN</td>\n",
       "      <td>0</td>\n",
       "      <td>6</td>\n",
       "      <td>2010</td>\n",
       "      <td>WD</td>\n",
       "      <td>Normal</td>\n",
       "    </tr>\n",
       "    <tr>\n",
       "      <th>4</th>\n",
       "      <td>1465</td>\n",
       "      <td>120</td>\n",
       "      <td>RL</td>\n",
       "      <td>43.0</td>\n",
       "      <td>5005</td>\n",
       "      <td>Pave</td>\n",
       "      <td>NaN</td>\n",
       "      <td>IR1</td>\n",
       "      <td>HLS</td>\n",
       "      <td>AllPub</td>\n",
       "      <td>...</td>\n",
       "      <td>144</td>\n",
       "      <td>0</td>\n",
       "      <td>NaN</td>\n",
       "      <td>NaN</td>\n",
       "      <td>NaN</td>\n",
       "      <td>0</td>\n",
       "      <td>1</td>\n",
       "      <td>2010</td>\n",
       "      <td>WD</td>\n",
       "      <td>Normal</td>\n",
       "    </tr>\n",
       "  </tbody>\n",
       "</table>\n",
       "<p>5 rows × 80 columns</p>\n",
       "</div>"
      ],
      "text/plain": [
       "     Id  MSSubClass MSZoning  LotFrontage  LotArea Street Alley LotShape  \\\n",
       "0  1461          20       RH         80.0    11622   Pave   NaN      Reg   \n",
       "1  1462          20       RL         81.0    14267   Pave   NaN      IR1   \n",
       "2  1463          60       RL         74.0    13830   Pave   NaN      IR1   \n",
       "3  1464          60       RL         78.0     9978   Pave   NaN      IR1   \n",
       "4  1465         120       RL         43.0     5005   Pave   NaN      IR1   \n",
       "\n",
       "  LandContour Utilities  ... ScreenPorch PoolArea PoolQC  Fence MiscFeature  \\\n",
       "0         Lvl    AllPub  ...         120        0    NaN  MnPrv         NaN   \n",
       "1         Lvl    AllPub  ...           0        0    NaN    NaN        Gar2   \n",
       "2         Lvl    AllPub  ...           0        0    NaN  MnPrv         NaN   \n",
       "3         Lvl    AllPub  ...           0        0    NaN    NaN         NaN   \n",
       "4         HLS    AllPub  ...         144        0    NaN    NaN         NaN   \n",
       "\n",
       "  MiscVal MoSold  YrSold  SaleType  SaleCondition  \n",
       "0       0      6    2010        WD         Normal  \n",
       "1   12500      6    2010        WD         Normal  \n",
       "2       0      3    2010        WD         Normal  \n",
       "3       0      6    2010        WD         Normal  \n",
       "4       0      1    2010        WD         Normal  \n",
       "\n",
       "[5 rows x 80 columns]"
      ]
     },
     "execution_count": 7,
     "metadata": {},
     "output_type": "execute_result"
    }
   ],
   "source": [
    "# Reading the test dataset\n",
    "x_test=pd.read_csv('../input/house-prices-dataset/test.csv')\n",
    "x_test.head()"
   ]
  },
  {
   "cell_type": "code",
   "execution_count": 8,
   "id": "attended-welcome",
   "metadata": {
    "execution": {
     "iopub.execute_input": "2021-06-05T12:07:11.346820Z",
     "iopub.status.busy": "2021-06-05T12:07:11.346161Z",
     "iopub.status.idle": "2021-06-05T12:07:11.349952Z",
     "shell.execute_reply": "2021-06-05T12:07:11.349289Z",
     "shell.execute_reply.started": "2021-06-05T12:04:00.209650Z"
    },
    "papermill": {
     "duration": 0.067152,
     "end_time": "2021-06-05T12:07:11.350105",
     "exception": false,
     "start_time": "2021-06-05T12:07:11.282953",
     "status": "completed"
    },
    "tags": []
   },
   "outputs": [
    {
     "data": {
      "text/plain": [
       "((1022, 80), (438, 79), (1459, 80))"
      ]
     },
     "execution_count": 8,
     "metadata": {},
     "output_type": "execute_result"
    }
   ],
   "source": [
    "# This are the respective dimensions of my datasets\n",
    "x_train.shape,x_val.shape,x_test.shape"
   ]
  },
  {
   "cell_type": "code",
   "execution_count": 9,
   "id": "flying-impossible",
   "metadata": {
    "execution": {
     "iopub.execute_input": "2021-06-05T12:07:11.475558Z",
     "iopub.status.busy": "2021-06-05T12:07:11.474711Z",
     "iopub.status.idle": "2021-06-05T12:07:11.477786Z",
     "shell.execute_reply": "2021-06-05T12:07:11.477263Z",
     "shell.execute_reply.started": "2021-06-05T12:04:00.218606Z"
    },
    "papermill": {
     "duration": 0.070128,
     "end_time": "2021-06-05T12:07:11.477935",
     "exception": false,
     "start_time": "2021-06-05T12:07:11.407807",
     "status": "completed"
    },
    "tags": []
   },
   "outputs": [],
   "source": [
    "#Numeric_col means columns with numeric values\n",
    "#Cat_col means columns with categorical values\n",
    "numeric_col=[var for var in x_train.columns if x_train[var].dtypes!='O'and var!='SalePrice']\n",
    "cat_col=[var for var in x_train.columns if x_train[var].dtypes=='O']"
   ]
  },
  {
   "cell_type": "code",
   "execution_count": 10,
   "id": "indirect-assessment",
   "metadata": {
    "execution": {
     "iopub.execute_input": "2021-06-05T12:07:11.599566Z",
     "iopub.status.busy": "2021-06-05T12:07:11.598541Z",
     "iopub.status.idle": "2021-06-05T12:07:11.619451Z",
     "shell.execute_reply": "2021-06-05T12:07:11.618918Z",
     "shell.execute_reply.started": "2021-06-05T12:04:00.235948Z"
    },
    "papermill": {
     "duration": 0.084172,
     "end_time": "2021-06-05T12:07:11.619647",
     "exception": false,
     "start_time": "2021-06-05T12:07:11.535475",
     "status": "completed"
    },
    "tags": []
   },
   "outputs": [
    {
     "data": {
      "text/plain": [
       "MSSubClass        15\n",
       "LotFrontage      104\n",
       "LotArea          791\n",
       "OverallQual       10\n",
       "OverallCond        8\n",
       "YearBuilt        107\n",
       "YearRemodAdd      61\n",
       "MasVnrArea       267\n",
       "BsmtFinSF1       494\n",
       "BsmtFinSF2       107\n",
       "BsmtUnfSF        619\n",
       "TotalBsmtSF      580\n",
       "1stFlrSF         621\n",
       "2ndFlrSF         320\n",
       "LowQualFinSF      18\n",
       "GrLivArea        684\n",
       "BsmtFullBath       4\n",
       "BsmtHalfBath       3\n",
       "FullBath           4\n",
       "HalfBath           3\n",
       "BedroomAbvGr       8\n",
       "KitchenAbvGr       3\n",
       "TotRmsAbvGrd      12\n",
       "Fireplaces         4\n",
       "GarageYrBlt       95\n",
       "GarageCars         5\n",
       "GarageArea       368\n",
       "WoodDeckSF       215\n",
       "OpenPorchSF      167\n",
       "EnclosedPorch     95\n",
       "3SsnPorch         16\n",
       "ScreenPorch       63\n",
       "PoolArea           7\n",
       "MiscVal           17\n",
       "MoSold            12\n",
       "YrSold             5\n",
       "dtype: int64"
      ]
     },
     "execution_count": 10,
     "metadata": {},
     "output_type": "execute_result"
    }
   ],
   "source": [
    "# Number of unique values for each numeric variable.\n",
    "x_train[numeric_col].nunique()"
   ]
  },
  {
   "cell_type": "code",
   "execution_count": 11,
   "id": "virtual-speed",
   "metadata": {
    "execution": {
     "iopub.execute_input": "2021-06-05T12:07:11.742326Z",
     "iopub.status.busy": "2021-06-05T12:07:11.741588Z",
     "iopub.status.idle": "2021-06-05T12:07:11.753841Z",
     "shell.execute_reply": "2021-06-05T12:07:11.753303Z",
     "shell.execute_reply.started": "2021-06-05T12:04:00.262932Z"
    },
    "papermill": {
     "duration": 0.075812,
     "end_time": "2021-06-05T12:07:11.753990",
     "exception": false,
     "start_time": "2021-06-05T12:07:11.678178",
     "status": "completed"
    },
    "tags": []
   },
   "outputs": [
    {
     "data": {
      "text/plain": [
       "['OverallCond',\n",
       " 'BsmtFullBath',\n",
       " 'BsmtHalfBath',\n",
       " 'FullBath',\n",
       " 'HalfBath',\n",
       " 'BedroomAbvGr',\n",
       " 'KitchenAbvGr',\n",
       " 'Fireplaces',\n",
       " 'GarageCars',\n",
       " 'PoolArea',\n",
       " 'YrSold']"
      ]
     },
     "execution_count": 11,
     "metadata": {},
     "output_type": "execute_result"
    }
   ],
   "source": [
    "# Lets us find out the discrete variables.For this i have set the condition that any \n",
    "# numeric variable whose number of unique observation is less than 10 is classified as unique\n",
    "discrete_cols=[var for var in numeric_col if x_train[var].nunique()<10]\n",
    "discrete_cols"
   ]
  },
  {
   "cell_type": "code",
   "execution_count": 12,
   "id": "preceding-sweden",
   "metadata": {
    "execution": {
     "iopub.execute_input": "2021-06-05T12:07:11.878266Z",
     "iopub.status.busy": "2021-06-05T12:07:11.877147Z",
     "iopub.status.idle": "2021-06-05T12:07:11.882092Z",
     "shell.execute_reply": "2021-06-05T12:07:11.881452Z",
     "shell.execute_reply.started": "2021-06-05T12:04:00.278730Z"
    },
    "papermill": {
     "duration": 0.069908,
     "end_time": "2021-06-05T12:07:11.882243",
     "exception": false,
     "start_time": "2021-06-05T12:07:11.812335",
     "status": "completed"
    },
    "tags": []
   },
   "outputs": [
    {
     "data": {
      "text/plain": [
       "['MSSubClass',\n",
       " 'LotFrontage',\n",
       " 'LotArea',\n",
       " 'OverallQual',\n",
       " 'YearBuilt',\n",
       " 'YearRemodAdd',\n",
       " 'MasVnrArea',\n",
       " 'BsmtFinSF1',\n",
       " 'BsmtFinSF2',\n",
       " 'BsmtUnfSF',\n",
       " 'TotalBsmtSF',\n",
       " '1stFlrSF',\n",
       " '2ndFlrSF',\n",
       " 'LowQualFinSF',\n",
       " 'GrLivArea',\n",
       " 'TotRmsAbvGrd',\n",
       " 'GarageYrBlt',\n",
       " 'GarageArea',\n",
       " 'WoodDeckSF',\n",
       " 'OpenPorchSF',\n",
       " 'EnclosedPorch',\n",
       " '3SsnPorch',\n",
       " 'ScreenPorch',\n",
       " 'MiscVal',\n",
       " 'MoSold']"
      ]
     },
     "execution_count": 12,
     "metadata": {},
     "output_type": "execute_result"
    }
   ],
   "source": [
    "# Similarly for continous variable\n",
    "continous_cols=[var for var in numeric_col if var not in discrete_cols]\n",
    "continous_cols"
   ]
  },
  {
   "cell_type": "code",
   "execution_count": 13,
   "id": "abroad-buyer",
   "metadata": {
    "execution": {
     "iopub.execute_input": "2021-06-05T12:07:12.027145Z",
     "iopub.status.busy": "2021-06-05T12:07:12.026286Z",
     "iopub.status.idle": "2021-06-05T12:07:12.029089Z",
     "shell.execute_reply": "2021-06-05T12:07:12.028426Z",
     "shell.execute_reply.started": "2021-06-05T12:04:00.288765Z"
    },
    "papermill": {
     "duration": 0.086709,
     "end_time": "2021-06-05T12:07:12.029244",
     "exception": false,
     "start_time": "2021-06-05T12:07:11.942535",
     "status": "completed"
    },
    "tags": []
   },
   "outputs": [],
   "source": [
    "# missing_num means numeric columns with missing value\n",
    "# missing_cat means categorical columns with missing value\n",
    "missing_num=[ var for var in numeric_col if x_train[var].isnull().mean()>0]\n",
    "missing_cat=[ var for var in cat_col if x_train[var].isnull().mean()>0]"
   ]
  },
  {
   "cell_type": "code",
   "execution_count": 14,
   "id": "deluxe-rental",
   "metadata": {
    "execution": {
     "iopub.execute_input": "2021-06-05T12:07:12.153417Z",
     "iopub.status.busy": "2021-06-05T12:07:12.152759Z",
     "iopub.status.idle": "2021-06-05T12:07:12.155611Z",
     "shell.execute_reply": "2021-06-05T12:07:12.156084Z",
     "shell.execute_reply.started": "2021-06-05T12:04:00.322737Z"
    },
    "papermill": {
     "duration": 0.067478,
     "end_time": "2021-06-05T12:07:12.156262",
     "exception": false,
     "start_time": "2021-06-05T12:07:12.088784",
     "status": "completed"
    },
    "tags": []
   },
   "outputs": [
    {
     "data": {
      "text/plain": [
       "['LotFrontage', 'MasVnrArea', 'GarageYrBlt']"
      ]
     },
     "execution_count": 14,
     "metadata": {},
     "output_type": "execute_result"
    }
   ],
   "source": [
    "missing_num"
   ]
  },
  {
   "cell_type": "code",
   "execution_count": 15,
   "id": "conscious-dairy",
   "metadata": {
    "execution": {
     "iopub.execute_input": "2021-06-05T12:07:12.279681Z",
     "iopub.status.busy": "2021-06-05T12:07:12.279035Z",
     "iopub.status.idle": "2021-06-05T12:07:12.283882Z",
     "shell.execute_reply": "2021-06-05T12:07:12.284340Z",
     "shell.execute_reply.started": "2021-06-05T12:04:00.338234Z"
    },
    "papermill": {
     "duration": 0.069258,
     "end_time": "2021-06-05T12:07:12.284517",
     "exception": false,
     "start_time": "2021-06-05T12:07:12.215259",
     "status": "completed"
    },
    "tags": []
   },
   "outputs": [
    {
     "data": {
      "text/plain": [
       "['Alley',\n",
       " 'MasVnrType',\n",
       " 'BsmtQual',\n",
       " 'BsmtCond',\n",
       " 'BsmtExposure',\n",
       " 'BsmtFinType1',\n",
       " 'BsmtFinType2',\n",
       " 'FireplaceQu',\n",
       " 'GarageType',\n",
       " 'GarageFinish',\n",
       " 'GarageQual',\n",
       " 'GarageCond',\n",
       " 'PoolQC',\n",
       " 'Fence',\n",
       " 'MiscFeature']"
      ]
     },
     "execution_count": 15,
     "metadata": {},
     "output_type": "execute_result"
    }
   ],
   "source": [
    "missing_cat"
   ]
  },
  {
   "cell_type": "markdown",
   "id": "conservative-tunisia",
   "metadata": {
    "papermill": {
     "duration": 0.059328,
     "end_time": "2021-06-05T12:07:12.404035",
     "exception": false,
     "start_time": "2021-06-05T12:07:12.344707",
     "status": "completed"
    },
    "tags": []
   },
   "source": [
    "## Missing Value Imputation"
   ]
  },
  {
   "cell_type": "markdown",
   "id": "military-layer",
   "metadata": {
    "papermill": {
     "duration": 0.059594,
     "end_time": "2021-06-05T12:07:12.522902",
     "exception": false,
     "start_time": "2021-06-05T12:07:12.463308",
     "status": "completed"
    },
    "tags": []
   },
   "source": [
    "###  Replace missing value with median imputation.\n",
    "\n",
    "1. Data is missing completely at random</br>\n",
    "2. No more than 5% of the variable contains missing data"
   ]
  },
  {
   "cell_type": "code",
   "execution_count": 16,
   "id": "southwest-comment",
   "metadata": {
    "execution": {
     "iopub.execute_input": "2021-06-05T12:07:12.645547Z",
     "iopub.status.busy": "2021-06-05T12:07:12.644899Z",
     "iopub.status.idle": "2021-06-05T12:07:13.373685Z",
     "shell.execute_reply": "2021-06-05T12:07:13.374181Z",
     "shell.execute_reply.started": "2021-06-05T12:04:00.352826Z"
    },
    "papermill": {
     "duration": 0.792112,
     "end_time": "2021-06-05T12:07:13.374369",
     "exception": false,
     "start_time": "2021-06-05T12:07:12.582257",
     "status": "completed"
    },
    "tags": []
   },
   "outputs": [
    {
     "data": {
      "image/png": "[encoded data removed]",
      "text/plain": [
       "<Figure size 720x432 with 4 Axes>"
      ]
     },
     "metadata": {},
     "output_type": "display_data"
    }
   ],
   "source": [
    "# Distribution of numeric columns having missing values\n",
    "x_train[missing_num].hist(figsize=(10,6),bins=50);"
   ]
  },
  {
   "cell_type": "code",
   "execution_count": 17,
   "id": "mediterranean-better",
   "metadata": {
    "execution": {
     "iopub.execute_input": "2021-06-05T12:07:13.500482Z",
     "iopub.status.busy": "2021-06-05T12:07:13.499843Z",
     "iopub.status.idle": "2021-06-05T12:07:13.507904Z",
     "shell.execute_reply": "2021-06-05T12:07:13.508448Z",
     "shell.execute_reply.started": "2021-06-05T12:04:01.071917Z"
    },
    "papermill": {
     "duration": 0.072122,
     "end_time": "2021-06-05T12:07:13.508635",
     "exception": false,
     "start_time": "2021-06-05T12:07:13.436513",
     "status": "completed"
    },
    "tags": []
   },
   "outputs": [
    {
     "data": {
      "text/plain": [
       "LotFrontage    0.167319\n",
       "MasVnrArea     0.003914\n",
       "GarageYrBlt    0.055773\n",
       "dtype: float64"
      ]
     },
     "execution_count": 17,
     "metadata": {},
     "output_type": "execute_result"
    }
   ],
   "source": [
    "# % of missing values in numeric columns\n",
    "x_train[missing_num].isnull().mean()"
   ]
  },
  {
   "cell_type": "code",
   "execution_count": 18,
   "id": "sound-poetry",
   "metadata": {
    "execution": {
     "iopub.execute_input": "2021-06-05T12:07:13.634311Z",
     "iopub.status.busy": "2021-06-05T12:07:13.633627Z",
     "iopub.status.idle": "2021-06-05T12:07:13.638579Z",
     "shell.execute_reply": "2021-06-05T12:07:13.639218Z",
     "shell.execute_reply.started": "2021-06-05T12:04:01.083702Z"
    },
    "papermill": {
     "duration": 0.069263,
     "end_time": "2021-06-05T12:07:13.639410",
     "exception": false,
     "start_time": "2021-06-05T12:07:13.570147",
     "status": "completed"
    },
    "tags": []
   },
   "outputs": [],
   "source": [
    "def median_impute(var):\n",
    "  median=x_train[var].median()\n",
    "  x_train[var]=x_train[var].fillna(median)\n",
    "  x_val[var]=x_val[var].fillna(median)\n",
    "  x_test[var]=x_test[var].fillna(median)\n",
    "  return x_train,x_val,x_test"
   ]
  },
  {
   "cell_type": "code",
   "execution_count": 19,
   "id": "departmental-instruction",
   "metadata": {
    "execution": {
     "iopub.execute_input": "2021-06-05T12:07:13.764996Z",
     "iopub.status.busy": "2021-06-05T12:07:13.764269Z",
     "iopub.status.idle": "2021-06-05T12:07:13.773314Z",
     "shell.execute_reply": "2021-06-05T12:07:13.772575Z",
     "shell.execute_reply.started": "2021-06-05T12:04:01.095842Z"
    },
    "papermill": {
     "duration": 0.073702,
     "end_time": "2021-06-05T12:07:13.773468",
     "exception": false,
     "start_time": "2021-06-05T12:07:13.699766",
     "status": "completed"
    },
    "tags": []
   },
   "outputs": [
    {
     "data": {
      "text/plain": [
       "0.0"
      ]
     },
     "execution_count": 19,
     "metadata": {},
     "output_type": "execute_result"
    }
   ],
   "source": [
    "# Assuming all the MasVnrArea is missing completely at random\n",
    "# imputing 'LotFrontage ' with median value\n",
    "x_train,x_val,x_test=median_impute('MasVnrArea')\n",
    "x_train['MasVnrArea'].isnull().mean()"
   ]
  },
  {
   "cell_type": "markdown",
   "id": "personal-wilderness",
   "metadata": {
    "papermill": {
     "duration": 0.062724,
     "end_time": "2021-06-05T12:07:13.898510",
     "exception": false,
     "start_time": "2021-06-05T12:07:13.835786",
     "status": "completed"
    },
    "tags": []
   },
   "source": [
    "### Replace missing value with end tail imputation-\n",
    "The rationale is that if the value is missing, it is for a reason, therefore, NA \n",
    "would not be replaced by the mean which makes them look like the majority \n",
    "of the observations. Instead, NA are flagged as different by assigning a value \n",
    "at the tail of the distribution, where observations are rarely represented in \n",
    "the population."
   ]
  },
  {
   "cell_type": "code",
   "execution_count": 20,
   "id": "identified-result",
   "metadata": {
    "execution": {
     "iopub.execute_input": "2021-06-05T12:07:14.028113Z",
     "iopub.status.busy": "2021-06-05T12:07:14.027442Z",
     "iopub.status.idle": "2021-06-05T12:07:14.030418Z",
     "shell.execute_reply": "2021-06-05T12:07:14.029906Z",
     "shell.execute_reply.started": "2021-06-05T12:04:01.119223Z"
    },
    "papermill": {
     "duration": 0.070294,
     "end_time": "2021-06-05T12:07:14.030562",
     "exception": false,
     "start_time": "2021-06-05T12:07:13.960268",
     "status": "completed"
    },
    "tags": []
   },
   "outputs": [],
   "source": [
    "def end_sample(var,distance):\n",
    "  iqr=x_train[var].quantile(0.75)-x_train[var].quantile(0.25)\n",
    "  upper_bound=x_train[var].quantile(0.75)+distance*iqr\n",
    "\n",
    "  return upper_bound"
   ]
  },
  {
   "cell_type": "code",
   "execution_count": 21,
   "id": "european-sight",
   "metadata": {
    "execution": {
     "iopub.execute_input": "2021-06-05T12:07:14.159405Z",
     "iopub.status.busy": "2021-06-05T12:07:14.158759Z",
     "iopub.status.idle": "2021-06-05T12:07:14.170687Z",
     "shell.execute_reply": "2021-06-05T12:07:14.171184Z",
     "shell.execute_reply.started": "2021-06-05T12:04:01.127597Z"
    },
    "papermill": {
     "duration": 0.079755,
     "end_time": "2021-06-05T12:07:14.171368",
     "exception": false,
     "start_time": "2021-06-05T12:07:14.091613",
     "status": "completed"
    },
    "tags": []
   },
   "outputs": [],
   "source": [
    "for var in ['GarageYrBlt','LotFrontage']:\n",
    "    upper_value=end_sample(var,3)\n",
    "    x_train[var]=x_train[var].fillna(upper_value)\n",
    "    x_val[var]=x_val[var].fillna(upper_value)\n",
    "    x_test[var]=x_test[var].fillna(upper_value)"
   ]
  },
  {
   "cell_type": "code",
   "execution_count": 22,
   "id": "pleased-medium",
   "metadata": {
    "execution": {
     "iopub.execute_input": "2021-06-05T12:07:14.296995Z",
     "iopub.status.busy": "2021-06-05T12:07:14.296262Z",
     "iopub.status.idle": "2021-06-05T12:07:14.303855Z",
     "shell.execute_reply": "2021-06-05T12:07:14.304340Z",
     "shell.execute_reply.started": "2021-06-05T12:04:01.148005Z"
    },
    "papermill": {
     "duration": 0.072435,
     "end_time": "2021-06-05T12:07:14.304526",
     "exception": false,
     "start_time": "2021-06-05T12:07:14.232091",
     "status": "completed"
    },
    "tags": []
   },
   "outputs": [
    {
     "data": {
      "text/plain": [
       "LotFrontage    0.0\n",
       "MasVnrArea     0.0\n",
       "GarageYrBlt    0.0\n",
       "dtype: float64"
      ]
     },
     "execution_count": 22,
     "metadata": {},
     "output_type": "execute_result"
    }
   ],
   "source": [
    "x_train[missing_num].isnull().mean()"
   ]
  },
  {
   "cell_type": "code",
   "execution_count": 23,
   "id": "strange-thriller",
   "metadata": {
    "execution": {
     "iopub.execute_input": "2021-06-05T12:07:14.432709Z",
     "iopub.status.busy": "2021-06-05T12:07:14.431750Z",
     "iopub.status.idle": "2021-06-05T12:07:15.089044Z",
     "shell.execute_reply": "2021-06-05T12:07:15.088450Z",
     "shell.execute_reply.started": "2021-06-05T12:04:01.161703Z"
    },
    "papermill": {
     "duration": 0.721972,
     "end_time": "2021-06-05T12:07:15.089192",
     "exception": false,
     "start_time": "2021-06-05T12:07:14.367220",
     "status": "completed"
    },
    "tags": []
   },
   "outputs": [
    {
     "data": {
      "image/png": "[encoded data removed]",
      "text/plain": [
       "<Figure size 720x432 with 4 Axes>"
      ]
     },
     "metadata": {},
     "output_type": "display_data"
    }
   ],
   "source": [
    "# After imputation the distribution of the variables are as follows\n",
    "x_train[missing_num].hist(figsize=(10,6),bins=50);"
   ]
  },
  {
   "cell_type": "markdown",
   "id": "detailed-cover",
   "metadata": {
    "papermill": {
     "duration": 0.063678,
     "end_time": "2021-06-05T12:07:15.217717",
     "exception": false,
     "start_time": "2021-06-05T12:07:15.154039",
     "status": "completed"
    },
    "tags": []
   },
   "source": [
    "## Add a Category for Missing Data</br>\n",
    "This next method is quite straightforward and only works for categorical data. You </br>would create a separate label for missing values — ‘missing’ or it could be anything relevant. The idea is to flag missing values and understand the importance of being missing.</br>\n",
    "Assumptions: No assumption</br>\n",
    "Advantages: Quick and easy to implement; Helps understand importance of missing data</br>\n",
    "Disadvantage: Potentially misunderstood data; Number of missing data should be large enough"
   ]
  },
  {
   "cell_type": "code",
   "execution_count": 24,
   "id": "mobile-polish",
   "metadata": {
    "execution": {
     "iopub.execute_input": "2021-06-05T12:07:15.357835Z",
     "iopub.status.busy": "2021-06-05T12:07:15.354797Z",
     "iopub.status.idle": "2021-06-05T12:07:15.365597Z",
     "shell.execute_reply": "2021-06-05T12:07:15.366265Z",
     "shell.execute_reply.started": "2021-06-05T12:04:01.848964Z"
    },
    "papermill": {
     "duration": 0.084991,
     "end_time": "2021-06-05T12:07:15.366482",
     "exception": false,
     "start_time": "2021-06-05T12:07:15.281491",
     "status": "completed"
    },
    "tags": []
   },
   "outputs": [
    {
     "data": {
      "text/plain": [
       "Alley           0.943249\n",
       "MasVnrType      0.003914\n",
       "BsmtQual        0.022505\n",
       "BsmtCond        0.022505\n",
       "BsmtExposure    0.023483\n",
       "BsmtFinType1    0.022505\n",
       "BsmtFinType2    0.022505\n",
       "FireplaceQu     0.469667\n",
       "GarageType      0.055773\n",
       "GarageFinish    0.055773\n",
       "GarageQual      0.055773\n",
       "GarageCond      0.055773\n",
       "PoolQC          0.994129\n",
       "Fence           0.816047\n",
       "MiscFeature     0.966732\n",
       "dtype: float64"
      ]
     },
     "execution_count": 24,
     "metadata": {},
     "output_type": "execute_result"
    }
   ],
   "source": [
    "x_train[missing_cat].isnull().mean()"
   ]
  },
  {
   "cell_type": "code",
   "execution_count": 25,
   "id": "narrative-seeker",
   "metadata": {
    "execution": {
     "iopub.execute_input": "2021-06-05T12:07:15.499403Z",
     "iopub.status.busy": "2021-06-05T12:07:15.498632Z",
     "iopub.status.idle": "2021-06-05T12:07:15.512181Z",
     "shell.execute_reply": "2021-06-05T12:07:15.511291Z",
     "shell.execute_reply.started": "2021-06-05T12:04:01.864224Z"
    },
    "papermill": {
     "duration": 0.080429,
     "end_time": "2021-06-05T12:07:15.512351",
     "exception": false,
     "start_time": "2021-06-05T12:07:15.431922",
     "status": "completed"
    },
    "tags": []
   },
   "outputs": [],
   "source": [
    "# Now for Categorical Variable\n",
    "for var in ['Alley','FireplaceQu','PoolQC','Fence','MiscFeature']:\n",
    "    x_train[var]=x_train[var].fillna('Missing')\n",
    "    x_val[var]=x_val[var].fillna('Missing')\n",
    "    x_test[var]=x_test[var].fillna('Missing')"
   ]
  },
  {
   "cell_type": "code",
   "execution_count": 26,
   "id": "thermal-professor",
   "metadata": {
    "execution": {
     "iopub.execute_input": "2021-06-05T12:07:15.645104Z",
     "iopub.status.busy": "2021-06-05T12:07:15.644398Z",
     "iopub.status.idle": "2021-06-05T12:07:15.648660Z",
     "shell.execute_reply": "2021-06-05T12:07:15.649246Z",
     "shell.execute_reply.started": "2021-06-05T12:04:01.880642Z"
    },
    "papermill": {
     "duration": 0.072311,
     "end_time": "2021-06-05T12:07:15.649487",
     "exception": false,
     "start_time": "2021-06-05T12:07:15.577176",
     "status": "completed"
    },
    "tags": []
   },
   "outputs": [],
   "source": [
    "columns_remaining=['MasVnrType','BsmtQual','BsmtCond','BsmtExposure','BsmtFinType1',\n",
    "                   'BsmtFinType2','GarageType','GarageFinish','GarageQual','GarageQual']\n"
   ]
  },
  {
   "cell_type": "code",
   "execution_count": 27,
   "id": "confident-championship",
   "metadata": {
    "execution": {
     "iopub.execute_input": "2021-06-05T12:07:15.784452Z",
     "iopub.status.busy": "2021-06-05T12:07:15.783599Z",
     "iopub.status.idle": "2021-06-05T12:07:15.819264Z",
     "shell.execute_reply": "2021-06-05T12:07:15.818506Z",
     "shell.execute_reply.started": "2021-06-05T12:04:01.887616Z"
    },
    "papermill": {
     "duration": 0.103477,
     "end_time": "2021-06-05T12:07:15.819433",
     "exception": false,
     "start_time": "2021-06-05T12:07:15.715956",
     "status": "completed"
    },
    "tags": []
   },
   "outputs": [],
   "source": [
    "for var in columns_remaining:\n",
    "    mode=x_train[var].mode()\n",
    "    x_train[var]=x_train[var].fillna(mode)\n",
    "    x_val[var]=x_val[var].fillna(mode)\n",
    "    x_test[var]=x_test[var].fillna(mode)"
   ]
  },
  {
   "cell_type": "code",
   "execution_count": 28,
   "id": "related-netscape",
   "metadata": {
    "execution": {
     "iopub.execute_input": "2021-06-05T12:07:15.955359Z",
     "iopub.status.busy": "2021-06-05T12:07:15.954623Z",
     "iopub.status.idle": "2021-06-05T12:07:15.962699Z",
     "shell.execute_reply": "2021-06-05T12:07:15.963278Z",
     "shell.execute_reply.started": "2021-06-05T12:04:01.929929Z"
    },
    "papermill": {
     "duration": 0.079736,
     "end_time": "2021-06-05T12:07:15.963507",
     "exception": false,
     "start_time": "2021-06-05T12:07:15.883771",
     "status": "completed"
    },
    "tags": []
   },
   "outputs": [
    {
     "data": {
      "text/plain": [
       "MasVnrType      0.003914\n",
       "BsmtQual        0.022505\n",
       "BsmtCond        0.022505\n",
       "BsmtExposure    0.023483\n",
       "BsmtFinType1    0.022505\n",
       "BsmtFinType2    0.022505\n",
       "GarageType      0.055773\n",
       "GarageFinish    0.055773\n",
       "GarageQual      0.055773\n",
       "GarageQual      0.055773\n",
       "dtype: float64"
      ]
     },
     "execution_count": 28,
     "metadata": {},
     "output_type": "execute_result"
    }
   ],
   "source": [
    "x_train[columns_remaining].isnull().mean()"
   ]
  },
  {
   "cell_type": "markdown",
   "id": "coastal-kidney",
   "metadata": {
    "papermill": {
     "duration": 0.065578,
     "end_time": "2021-06-05T12:07:16.093348",
     "exception": false,
     "start_time": "2021-06-05T12:07:16.027770",
     "status": "completed"
    },
    "tags": []
   },
   "source": [
    "## Create group of discrete variables"
   ]
  },
  {
   "cell_type": "code",
   "execution_count": 29,
   "id": "first-rabbit",
   "metadata": {
    "execution": {
     "iopub.execute_input": "2021-06-05T12:07:16.228225Z",
     "iopub.status.busy": "2021-06-05T12:07:16.227509Z",
     "iopub.status.idle": "2021-06-05T12:07:16.551455Z",
     "shell.execute_reply": "2021-06-05T12:07:16.552002Z",
     "shell.execute_reply.started": "2021-06-05T12:04:01.944672Z"
    },
    "papermill": {
     "duration": 0.392848,
     "end_time": "2021-06-05T12:07:16.552187",
     "exception": false,
     "start_time": "2021-06-05T12:07:16.159339",
     "status": "completed"
    },
    "tags": []
   },
   "outputs": [
    {
     "data": {
      "text/plain": [
       "<AxesSubplot:>"
      ]
     },
     "execution_count": 29,
     "metadata": {},
     "output_type": "execute_result"
    },
    {
     "data": {
      "image/png": "[encoded data removed]",
      "text/plain": [
       "<Figure size 576x396 with 1 Axes>"
      ]
     },
     "metadata": {},
     "output_type": "display_data"
    }
   ],
   "source": [
    "x_train[discrete_cols].nunique().plot.bar()"
   ]
  },
  {
   "cell_type": "code",
   "execution_count": 30,
   "id": "automatic-malpractice",
   "metadata": {
    "execution": {
     "iopub.execute_input": "2021-06-05T12:07:16.685112Z",
     "iopub.status.busy": "2021-06-05T12:07:16.684401Z",
     "iopub.status.idle": "2021-06-05T12:07:16.696121Z",
     "shell.execute_reply": "2021-06-05T12:07:16.696618Z",
     "shell.execute_reply.started": "2021-06-05T12:04:02.290959Z"
    },
    "papermill": {
     "duration": 0.079963,
     "end_time": "2021-06-05T12:07:16.696817",
     "exception": false,
     "start_time": "2021-06-05T12:07:16.616854",
     "status": "completed"
    },
    "tags": []
   },
   "outputs": [
    {
     "data": {
      "text/plain": [
       "OverallCond              [5, 6, 7, 9, 8, 4, 3, 2]\n",
       "BsmtFullBath                         [1, 0, 2, 3]\n",
       "BsmtHalfBath                            [0, 1, 2]\n",
       "FullBath                             [1, 2, 3, 0]\n",
       "HalfBath                                [0, 1, 2]\n",
       "BedroomAbvGr             [3, 2, 1, 4, 5, 0, 6, 8]\n",
       "KitchenAbvGr                            [1, 2, 0]\n",
       "Fireplaces                           [0, 1, 2, 3]\n",
       "GarageCars                        [2, 0, 3, 1, 4]\n",
       "PoolArea        [0, 519, 512, 555, 648, 576, 738]\n",
       "YrSold             [2006, 2008, 2007, 2010, 2009]\n",
       "dtype: object"
      ]
     },
     "execution_count": 30,
     "metadata": {},
     "output_type": "execute_result"
    }
   ],
   "source": [
    "x_train[discrete_cols].apply(lambda x:x.unique())"
   ]
  },
  {
   "cell_type": "code",
   "execution_count": 31,
   "id": "dutch-reputation",
   "metadata": {
    "execution": {
     "iopub.execute_input": "2021-06-05T12:07:16.830981Z",
     "iopub.status.busy": "2021-06-05T12:07:16.830249Z",
     "iopub.status.idle": "2021-06-05T12:07:17.527638Z",
     "shell.execute_reply": "2021-06-05T12:07:17.526981Z",
     "shell.execute_reply.started": "2021-06-05T12:04:02.307805Z"
    },
    "papermill": {
     "duration": 0.765332,
     "end_time": "2021-06-05T12:07:17.527800",
     "exception": false,
     "start_time": "2021-06-05T12:07:16.762468",
     "status": "completed"
    },
    "tags": []
   },
   "outputs": [
    {
     "data": {
      "image/png": "[encoded data removed]",
      "text/plain": [
       "<Figure size 1800x360 with 4 Axes>"
      ]
     },
     "metadata": {},
     "output_type": "display_data"
    }
   ],
   "source": [
    "plt.figure(figsize=(25,5))\n",
    "plt.subplot(1,6,1)\n",
    "x_train.groupby('OverallCond')['SalePrice'].mean().plot(color='r')\n",
    "plt.ylabel('SalePrice')\n",
    "plt.subplot(1,6,2)\n",
    "x_train.groupby('BsmtFullBath')['SalePrice'].mean().plot(label='BsmtFullBath',color='r')\n",
    "x_train.groupby('BsmtHalfBath')['SalePrice'].mean().plot(label='BsmtHalfBath',color='k')\n",
    "plt.legend(loc='upper left')\n",
    "plt.subplot(1,6,3)\n",
    "x_train.groupby('FullBath')['SalePrice'].mean().plot(label='FullBath',color='r')\n",
    "x_train.groupby('HalfBath')['SalePrice'].mean().plot(label='HalfBath',color='k')\n",
    "plt.legend()\n",
    "plt.subplot(1,6,4)\n",
    "x_train.groupby('BedroomAbvGr')['SalePrice'].mean().plot(label='BedroomAbvGr',color='r')\n",
    "x_train.groupby('KitchenAbvGr')['SalePrice'].mean().plot(label='KitchenAbvGr',color='k')\n",
    "plt.legend(loc='upper right')\n",
    "plt.tight_layout()"
   ]
  },
  {
   "cell_type": "code",
   "execution_count": 32,
   "id": "charming-lesson",
   "metadata": {
    "execution": {
     "iopub.execute_input": "2021-06-05T12:07:17.689093Z",
     "iopub.status.busy": "2021-06-05T12:07:17.687911Z",
     "iopub.status.idle": "2021-06-05T12:07:18.249523Z",
     "shell.execute_reply": "2021-06-05T12:07:18.248988Z",
     "shell.execute_reply.started": "2021-06-05T12:04:03.037194Z"
    },
    "papermill": {
     "duration": 0.654081,
     "end_time": "2021-06-05T12:07:18.249659",
     "exception": false,
     "start_time": "2021-06-05T12:07:17.595578",
     "status": "completed"
    },
    "tags": []
   },
   "outputs": [
    {
     "data": {
      "image/png": "[encoded data removed]",
      "text/plain": [
       "<Figure size 1080x360 with 4 Axes>"
      ]
     },
     "metadata": {},
     "output_type": "display_data"
    }
   ],
   "source": [
    "plt.figure(figsize=(15,5))\n",
    "plt.subplot(1,4,1)\n",
    "x_train.groupby('Fireplaces')['SalePrice'].mean().plot(color='r')\n",
    "plt.ylabel('SalePrice')\n",
    "plt.subplot(1,4,2)\n",
    "x_train.groupby('GarageCars')['SalePrice'].mean().plot(color='r')\n",
    "plt.subplot(1,4,3)\n",
    "x_train.groupby('PoolArea')['SalePrice'].mean().plot(color='r')\n",
    "plt.subplot(1,4,4)\n",
    "x_train.groupby('YrSold')['SalePrice'].mean().plot(color='r')\n",
    "plt.tight_layout()"
   ]
  },
  {
   "cell_type": "markdown",
   "id": "ongoing-ground",
   "metadata": {
    "papermill": {
     "duration": 0.069632,
     "end_time": "2021-06-05T12:07:18.388532",
     "exception": false,
     "start_time": "2021-06-05T12:07:18.318900",
     "status": "completed"
    },
    "tags": []
   },
   "source": [
    "We can see that most of the variable shows no montonic relationship with the target variable. In order to achieve monotonicity we will first discretize the variables into custom groups and then encode them w.r.t the target variable i.e SalePrice"
   ]
  },
  {
   "cell_type": "code",
   "execution_count": 33,
   "id": "processed-gross",
   "metadata": {
    "execution": {
     "iopub.execute_input": "2021-06-05T12:07:18.542705Z",
     "iopub.status.busy": "2021-06-05T12:07:18.541650Z",
     "iopub.status.idle": "2021-06-05T12:07:18.544593Z",
     "shell.execute_reply": "2021-06-05T12:07:18.545127Z",
     "shell.execute_reply.started": "2021-06-05T12:04:03.642233Z"
    },
    "papermill": {
     "duration": 0.085733,
     "end_time": "2021-06-05T12:07:18.545314",
     "exception": false,
     "start_time": "2021-06-05T12:07:18.459581",
     "status": "completed"
    },
    "tags": []
   },
   "outputs": [],
   "source": [
    "# Discretizing the discrete variable according to custom categories\n",
    "\n",
    "\n",
    "OverallCond=['Poor','Average','Good']\n",
    "OverallCond_int=[2,4,6,8]\n",
    "BsmtFullBath=['0-1','1-2','2-3']\n",
    "BsmtFullBath_int=[0,1,2,3]\n",
    "FullBath=['0-1','1-2','2-3']\n",
    "FullBath_int=[0,1,2,3]\n",
    "BsmtHalfBath=['0-1','1-2']\n",
    "BsmtHalfBath_int=[0,1,2]\n",
    "HalfBath=['0-1','1-2']\n",
    "HalfBath_int=[0,1,2]\n",
    "BedroomAbvGr=['0-2','2-4','4-6','6-8']\n",
    "BedroomAbvGr_int=[0,2,4,6,8]\n",
    "KitchenAbvGr=['0-1','1-2']\n",
    "KitchenAbvGr_int=[0,1,2]\n",
    "Fireplaces=['0-1','1-2','2-3']\n",
    "Fireplaces_int=[0, 1, 2, 3]\n",
    "GarageCars=['0-2','2-4']\n",
    "GarageCars_int=[0,2,4]\n",
    "PoolArea=['Below 500','Between 500-600','Above 600']\n",
    "PoolArea_int=[0, 500, 600,800]\n",
    "YrSold=['2006-2008','2008-2010']\n",
    "YrSold_int=[2006, 2008, 2010]\n"
   ]
  },
  {
   "cell_type": "code",
   "execution_count": 34,
   "id": "noble-single",
   "metadata": {
    "execution": {
     "iopub.execute_input": "2021-06-05T12:07:18.692002Z",
     "iopub.status.busy": "2021-06-05T12:07:18.691313Z",
     "iopub.status.idle": "2021-06-05T12:07:18.694004Z",
     "shell.execute_reply": "2021-06-05T12:07:18.693384Z",
     "shell.execute_reply.started": "2021-06-05T12:04:03.653584Z"
    },
    "papermill": {
     "duration": 0.079085,
     "end_time": "2021-06-05T12:07:18.694151",
     "exception": false,
     "start_time": "2021-06-05T12:07:18.615066",
     "status": "completed"
    },
    "tags": []
   },
   "outputs": [],
   "source": [
    "\n",
    "def discrete(col,train,val,test,interval,label):\n",
    "    train[col]=pd.cut(train[col],bins=interval,labels=label,include_lowest=True)\n",
    "    val[col]=pd.cut(val[col],bins=interval,labels=label,include_lowest=True)\n",
    "    test[col]=pd.cut(test[col],bins=interval,labels=label,include_lowest=True)\n",
    "    return train,val,test"
   ]
  },
  {
   "cell_type": "code",
   "execution_count": 35,
   "id": "legendary-biography",
   "metadata": {
    "execution": {
     "iopub.execute_input": "2021-06-05T12:07:18.841491Z",
     "iopub.status.busy": "2021-06-05T12:07:18.840826Z",
     "iopub.status.idle": "2021-06-05T12:07:18.929955Z",
     "shell.execute_reply": "2021-06-05T12:07:18.929368Z",
     "shell.execute_reply.started": "2021-06-05T12:04:03.667855Z"
    },
    "papermill": {
     "duration": 0.1652,
     "end_time": "2021-06-05T12:07:18.930103",
     "exception": false,
     "start_time": "2021-06-05T12:07:18.764903",
     "status": "completed"
    },
    "tags": []
   },
   "outputs": [],
   "source": [
    "discrete('OverallCond',x_train,x_val,x_test,OverallCond_int,OverallCond);\n",
    "discrete('BsmtFullBath',x_train,x_val,x_test,BsmtFullBath_int,BsmtFullBath);\n",
    "discrete('BsmtHalfBath',x_train,x_val,x_test,BsmtHalfBath_int,BsmtHalfBath);\n",
    "discrete('FullBath',x_train,x_val,x_test,FullBath_int,FullBath);\n",
    "discrete('HalfBath',x_train,x_val,x_test,HalfBath_int,HalfBath);\n",
    "discrete('BedroomAbvGr',x_train,x_val,x_test,BedroomAbvGr_int,BedroomAbvGr);\n",
    "discrete('KitchenAbvGr',x_train,x_val,x_test,KitchenAbvGr_int,KitchenAbvGr);\n",
    "discrete('Fireplaces',x_train,x_val,x_test,Fireplaces_int,Fireplaces);\n",
    "discrete('GarageCars',x_train,x_val,x_test,GarageCars_int,GarageCars);\n",
    "discrete('PoolArea',x_train,x_val,x_test,PoolArea_int,PoolArea);\n",
    "discrete('YrSold',x_train,x_val,x_test,YrSold_int,YrSold);"
   ]
  },
  {
   "cell_type": "code",
   "execution_count": 36,
   "id": "psychological-choice",
   "metadata": {
    "execution": {
     "iopub.execute_input": "2021-06-05T12:07:19.074521Z",
     "iopub.status.busy": "2021-06-05T12:07:19.073898Z",
     "iopub.status.idle": "2021-06-05T12:07:19.076953Z",
     "shell.execute_reply": "2021-06-05T12:07:19.076307Z",
     "shell.execute_reply.started": "2021-06-05T12:04:03.758425Z"
    },
    "papermill": {
     "duration": 0.076692,
     "end_time": "2021-06-05T12:07:19.077095",
     "exception": false,
     "start_time": "2021-06-05T12:07:19.000403",
     "status": "completed"
    },
    "tags": []
   },
   "outputs": [],
   "source": [
    "cat_col.extend(discrete_cols)"
   ]
  },
  {
   "cell_type": "code",
   "execution_count": 37,
   "id": "designed-organ",
   "metadata": {
    "execution": {
     "iopub.execute_input": "2021-06-05T12:07:19.239765Z",
     "iopub.status.busy": "2021-06-05T12:07:19.239076Z",
     "iopub.status.idle": "2021-06-05T12:07:19.243500Z",
     "shell.execute_reply": "2021-06-05T12:07:19.243010Z",
     "shell.execute_reply.started": "2021-06-05T12:04:03.765226Z"
    },
    "papermill": {
     "duration": 0.096186,
     "end_time": "2021-06-05T12:07:19.243642",
     "exception": false,
     "start_time": "2021-06-05T12:07:19.147456",
     "status": "completed"
    },
    "tags": []
   },
   "outputs": [
    {
     "data": {
      "text/html": [
       "<div>\n",
       "<style scoped>\n",
       "    .dataframe tbody tr th:only-of-type {\n",
       "        vertical-align: middle;\n",
       "    }\n",
       "\n",
       "    .dataframe tbody tr th {\n",
       "        vertical-align: top;\n",
       "    }\n",
       "\n",
       "    .dataframe thead th {\n",
       "        text-align: right;\n",
       "    }\n",
       "</style>\n",
       "<table border=\"1\" class=\"dataframe\">\n",
       "  <thead>\n",
       "    <tr style=\"text-align: right;\">\n",
       "      <th></th>\n",
       "      <th>OverallCond</th>\n",
       "      <th>BsmtFullBath</th>\n",
       "      <th>BsmtHalfBath</th>\n",
       "      <th>FullBath</th>\n",
       "      <th>HalfBath</th>\n",
       "      <th>BedroomAbvGr</th>\n",
       "      <th>KitchenAbvGr</th>\n",
       "      <th>Fireplaces</th>\n",
       "      <th>GarageCars</th>\n",
       "      <th>PoolArea</th>\n",
       "      <th>YrSold</th>\n",
       "    </tr>\n",
       "  </thead>\n",
       "  <tbody>\n",
       "    <tr>\n",
       "      <th>512</th>\n",
       "      <td>Average</td>\n",
       "      <td>0-1</td>\n",
       "      <td>0-1</td>\n",
       "      <td>0-1</td>\n",
       "      <td>0-1</td>\n",
       "      <td>2-4</td>\n",
       "      <td>0-1</td>\n",
       "      <td>0-1</td>\n",
       "      <td>0-2</td>\n",
       "      <td>Below 500</td>\n",
       "      <td>2006-2008</td>\n",
       "    </tr>\n",
       "    <tr>\n",
       "      <th>343</th>\n",
       "      <td>Average</td>\n",
       "      <td>0-1</td>\n",
       "      <td>0-1</td>\n",
       "      <td>1-2</td>\n",
       "      <td>0-1</td>\n",
       "      <td>0-2</td>\n",
       "      <td>0-1</td>\n",
       "      <td>0-1</td>\n",
       "      <td>0-2</td>\n",
       "      <td>Below 500</td>\n",
       "      <td>2006-2008</td>\n",
       "    </tr>\n",
       "    <tr>\n",
       "      <th>290</th>\n",
       "      <td>Average</td>\n",
       "      <td>0-1</td>\n",
       "      <td>0-1</td>\n",
       "      <td>1-2</td>\n",
       "      <td>0-1</td>\n",
       "      <td>2-4</td>\n",
       "      <td>0-1</td>\n",
       "      <td>0-1</td>\n",
       "      <td>0-2</td>\n",
       "      <td>Below 500</td>\n",
       "      <td>2006-2008</td>\n",
       "    </tr>\n",
       "    <tr>\n",
       "      <th>163</th>\n",
       "      <td>Average</td>\n",
       "      <td>0-1</td>\n",
       "      <td>0-1</td>\n",
       "      <td>0-1</td>\n",
       "      <td>0-1</td>\n",
       "      <td>0-2</td>\n",
       "      <td>0-1</td>\n",
       "      <td>0-1</td>\n",
       "      <td>0-2</td>\n",
       "      <td>Below 500</td>\n",
       "      <td>2006-2008</td>\n",
       "    </tr>\n",
       "    <tr>\n",
       "      <th>234</th>\n",
       "      <td>Average</td>\n",
       "      <td>0-1</td>\n",
       "      <td>0-1</td>\n",
       "      <td>1-2</td>\n",
       "      <td>0-1</td>\n",
       "      <td>2-4</td>\n",
       "      <td>0-1</td>\n",
       "      <td>1-2</td>\n",
       "      <td>0-2</td>\n",
       "      <td>Below 500</td>\n",
       "      <td>2008-2010</td>\n",
       "    </tr>\n",
       "  </tbody>\n",
       "</table>\n",
       "</div>"
      ],
      "text/plain": [
       "    OverallCond BsmtFullBath BsmtHalfBath FullBath HalfBath BedroomAbvGr  \\\n",
       "512     Average          0-1          0-1      0-1      0-1          2-4   \n",
       "343     Average          0-1          0-1      1-2      0-1          0-2   \n",
       "290     Average          0-1          0-1      1-2      0-1          2-4   \n",
       "163     Average          0-1          0-1      0-1      0-1          0-2   \n",
       "234     Average          0-1          0-1      1-2      0-1          2-4   \n",
       "\n",
       "    KitchenAbvGr Fireplaces GarageCars   PoolArea     YrSold  \n",
       "512          0-1        0-1        0-2  Below 500  2006-2008  \n",
       "343          0-1        0-1        0-2  Below 500  2006-2008  \n",
       "290          0-1        0-1        0-2  Below 500  2006-2008  \n",
       "163          0-1        0-1        0-2  Below 500  2006-2008  \n",
       "234          0-1        1-2        0-2  Below 500  2008-2010  "
      ]
     },
     "execution_count": 37,
     "metadata": {},
     "output_type": "execute_result"
    }
   ],
   "source": [
    "x_train[discrete_cols].head()"
   ]
  },
  {
   "cell_type": "code",
   "execution_count": 38,
   "id": "lonely-tragedy",
   "metadata": {
    "execution": {
     "iopub.execute_input": "2021-06-05T12:07:19.407049Z",
     "iopub.status.busy": "2021-06-05T12:07:19.406348Z",
     "iopub.status.idle": "2021-06-05T12:07:19.409848Z",
     "shell.execute_reply": "2021-06-05T12:07:19.410399Z",
     "shell.execute_reply.started": "2021-06-05T12:04:03.796561Z"
    },
    "papermill": {
     "duration": 0.096092,
     "end_time": "2021-06-05T12:07:19.410577",
     "exception": false,
     "start_time": "2021-06-05T12:07:19.314485",
     "status": "completed"
    },
    "tags": []
   },
   "outputs": [
    {
     "data": {
      "text/html": [
       "<div>\n",
       "<style scoped>\n",
       "    .dataframe tbody tr th:only-of-type {\n",
       "        vertical-align: middle;\n",
       "    }\n",
       "\n",
       "    .dataframe tbody tr th {\n",
       "        vertical-align: top;\n",
       "    }\n",
       "\n",
       "    .dataframe thead th {\n",
       "        text-align: right;\n",
       "    }\n",
       "</style>\n",
       "<table border=\"1\" class=\"dataframe\">\n",
       "  <thead>\n",
       "    <tr style=\"text-align: right;\">\n",
       "      <th></th>\n",
       "      <th>OverallCond</th>\n",
       "      <th>BsmtFullBath</th>\n",
       "      <th>BsmtHalfBath</th>\n",
       "      <th>FullBath</th>\n",
       "      <th>HalfBath</th>\n",
       "      <th>BedroomAbvGr</th>\n",
       "      <th>KitchenAbvGr</th>\n",
       "      <th>Fireplaces</th>\n",
       "      <th>GarageCars</th>\n",
       "      <th>PoolArea</th>\n",
       "      <th>YrSold</th>\n",
       "    </tr>\n",
       "  </thead>\n",
       "  <tbody>\n",
       "    <tr>\n",
       "      <th>1399</th>\n",
       "      <td>Average</td>\n",
       "      <td>0-1</td>\n",
       "      <td>0-1</td>\n",
       "      <td>1-2</td>\n",
       "      <td>0-1</td>\n",
       "      <td>2-4</td>\n",
       "      <td>0-1</td>\n",
       "      <td>0-1</td>\n",
       "      <td>0-2</td>\n",
       "      <td>Below 500</td>\n",
       "      <td>2008-2010</td>\n",
       "    </tr>\n",
       "    <tr>\n",
       "      <th>578</th>\n",
       "      <td>Average</td>\n",
       "      <td>0-1</td>\n",
       "      <td>0-1</td>\n",
       "      <td>1-2</td>\n",
       "      <td>0-1</td>\n",
       "      <td>0-2</td>\n",
       "      <td>0-1</td>\n",
       "      <td>0-1</td>\n",
       "      <td>0-2</td>\n",
       "      <td>Below 500</td>\n",
       "      <td>2006-2008</td>\n",
       "    </tr>\n",
       "    <tr>\n",
       "      <th>318</th>\n",
       "      <td>Average</td>\n",
       "      <td>0-1</td>\n",
       "      <td>0-1</td>\n",
       "      <td>1-2</td>\n",
       "      <td>0-1</td>\n",
       "      <td>2-4</td>\n",
       "      <td>0-1</td>\n",
       "      <td>0-1</td>\n",
       "      <td>2-4</td>\n",
       "      <td>Below 500</td>\n",
       "      <td>2008-2010</td>\n",
       "    </tr>\n",
       "    <tr>\n",
       "      <th>1340</th>\n",
       "      <td>Average</td>\n",
       "      <td>0-1</td>\n",
       "      <td>0-1</td>\n",
       "      <td>0-1</td>\n",
       "      <td>0-1</td>\n",
       "      <td>2-4</td>\n",
       "      <td>0-1</td>\n",
       "      <td>0-1</td>\n",
       "      <td>2-4</td>\n",
       "      <td>Below 500</td>\n",
       "      <td>2006-2008</td>\n",
       "    </tr>\n",
       "    <tr>\n",
       "      <th>654</th>\n",
       "      <td>Average</td>\n",
       "      <td>0-1</td>\n",
       "      <td>0-1</td>\n",
       "      <td>1-2</td>\n",
       "      <td>0-1</td>\n",
       "      <td>0-2</td>\n",
       "      <td>0-1</td>\n",
       "      <td>0-1</td>\n",
       "      <td>2-4</td>\n",
       "      <td>Below 500</td>\n",
       "      <td>2006-2008</td>\n",
       "    </tr>\n",
       "  </tbody>\n",
       "</table>\n",
       "</div>"
      ],
      "text/plain": [
       "     OverallCond BsmtFullBath BsmtHalfBath FullBath HalfBath BedroomAbvGr  \\\n",
       "1399     Average          0-1          0-1      1-2      0-1          2-4   \n",
       "578      Average          0-1          0-1      1-2      0-1          0-2   \n",
       "318      Average          0-1          0-1      1-2      0-1          2-4   \n",
       "1340     Average          0-1          0-1      0-1      0-1          2-4   \n",
       "654      Average          0-1          0-1      1-2      0-1          0-2   \n",
       "\n",
       "     KitchenAbvGr Fireplaces GarageCars   PoolArea     YrSold  \n",
       "1399          0-1        0-1        0-2  Below 500  2008-2010  \n",
       "578           0-1        0-1        0-2  Below 500  2006-2008  \n",
       "318           0-1        0-1        2-4  Below 500  2008-2010  \n",
       "1340          0-1        0-1        2-4  Below 500  2006-2008  \n",
       "654           0-1        0-1        2-4  Below 500  2006-2008  "
      ]
     },
     "execution_count": 38,
     "metadata": {},
     "output_type": "execute_result"
    }
   ],
   "source": [
    "x_val[discrete_cols].head()"
   ]
  },
  {
   "cell_type": "markdown",
   "id": "honey-recycling",
   "metadata": {
    "papermill": {
     "duration": 0.070788,
     "end_time": "2021-06-05T12:07:19.552106",
     "exception": false,
     "start_time": "2021-06-05T12:07:19.481318",
     "status": "completed"
    },
    "tags": []
   },
   "source": [
    "## Rare label Encoding"
   ]
  },
  {
   "cell_type": "code",
   "execution_count": 39,
   "id": "foster-shelf",
   "metadata": {
    "execution": {
     "iopub.execute_input": "2021-06-05T12:07:19.697024Z",
     "iopub.status.busy": "2021-06-05T12:07:19.696313Z",
     "iopub.status.idle": "2021-06-05T12:07:19.764546Z",
     "shell.execute_reply": "2021-06-05T12:07:19.763843Z",
     "shell.execute_reply.started": "2021-06-05T12:04:03.820153Z"
    },
    "papermill": {
     "duration": 0.142191,
     "end_time": "2021-06-05T12:07:19.764710",
     "exception": false,
     "start_time": "2021-06-05T12:07:19.622519",
     "status": "completed"
    },
    "tags": []
   },
   "outputs": [
    {
     "name": "stdout",
     "output_type": "stream",
     "text": [
      "MSZoning has 5 different category\n",
      "Street has 2 different category\n",
      "Alley has 3 different category\n",
      "LotShape has 4 different category\n",
      "LandContour has 4 different category\n",
      "Utilities has 2 different category\n",
      "LotConfig has 5 different category\n",
      "LandSlope has 3 different category\n",
      "Neighborhood has 25 different category\n",
      "Condition1 has 9 different category\n",
      "Condition2 has 5 different category\n",
      "BldgType has 5 different category\n",
      "HouseStyle has 8 different category\n",
      "RoofStyle has 6 different category\n",
      "RoofMatl has 6 different category\n",
      "Exterior1st has 15 different category\n",
      "Exterior2nd has 16 different category\n",
      "MasVnrType has 4 different category\n",
      "ExterQual has 4 different category\n",
      "ExterCond has 4 different category\n",
      "Foundation has 6 different category\n",
      "BsmtQual has 4 different category\n",
      "BsmtCond has 4 different category\n",
      "BsmtExposure has 4 different category\n",
      "BsmtFinType1 has 6 different category\n",
      "BsmtFinType2 has 6 different category\n",
      "Heating has 5 different category\n",
      "HeatingQC has 4 different category\n",
      "CentralAir has 2 different category\n",
      "Electrical has 5 different category\n",
      "KitchenQual has 4 different category\n",
      "Functional has 7 different category\n",
      "FireplaceQu has 6 different category\n",
      "GarageType has 6 different category\n",
      "GarageFinish has 3 different category\n",
      "GarageQual has 5 different category\n",
      "GarageCond has 5 different category\n",
      "PavedDrive has 3 different category\n",
      "PoolQC has 4 different category\n",
      "Fence has 5 different category\n",
      "MiscFeature has 5 different category\n",
      "SaleType has 9 different category\n",
      "SaleCondition has 6 different category\n",
      "OverallCond has 3 different category\n",
      "BsmtFullBath has 3 different category\n",
      "BsmtHalfBath has 2 different category\n",
      "FullBath has 3 different category\n",
      "HalfBath has 2 different category\n",
      "BedroomAbvGr has 4 different category\n",
      "KitchenAbvGr has 2 different category\n",
      "Fireplaces has 3 different category\n",
      "GarageCars has 2 different category\n",
      "PoolArea has 3 different category\n",
      "YrSold has 2 different category\n"
     ]
    }
   ],
   "source": [
    "# Identifying variables with a large number of different categories\n",
    "# i.e variables that have high cardinality.\n",
    "for col in cat_col:\n",
    "    labels=len(x_train[col].value_counts())\n",
    "    print('{} has {} different category'.format(col,labels))"
   ]
  },
  {
   "cell_type": "markdown",
   "id": "front-assault",
   "metadata": {
    "papermill": {
     "duration": 0.071398,
     "end_time": "2021-06-05T12:07:19.908054",
     "exception": false,
     "start_time": "2021-06-05T12:07:19.836656",
     "status": "completed"
    },
    "tags": []
   },
   "source": [
    "High cardinality may pose the following problems:\n",
    "\n",
    "Variables with too many labels tend to dominate over those with only a few labels, particularly in Tree based algorithms.\n",
    "\n",
    "A big number of labels within a variable may introduce noise with little, if any, information, therefore making machine learning models prone to over-fit.\n",
    "\n",
    "Some of the labels may only be present in the training data set, but not in the test set, therefore machine learning algorithms may over-fit to the training set.\n",
    "\n",
    "Contrarily, some labels may appear only in the test set, therefore leaving the machine learning algorithms unable to perform a calculation over the new (unseen) observation."
   ]
  },
  {
   "cell_type": "code",
   "execution_count": 40,
   "id": "mighty-marriage",
   "metadata": {
    "execution": {
     "iopub.execute_input": "2021-06-05T12:07:20.061935Z",
     "iopub.status.busy": "2021-06-05T12:07:20.060858Z",
     "iopub.status.idle": "2021-06-05T12:07:20.948948Z",
     "shell.execute_reply": "2021-06-05T12:07:20.948328Z",
     "shell.execute_reply.started": "2021-06-05T12:04:03.889096Z"
    },
    "papermill": {
     "duration": 0.968656,
     "end_time": "2021-06-05T12:07:20.949098",
     "exception": false,
     "start_time": "2021-06-05T12:07:19.980442",
     "status": "completed"
    },
    "tags": []
   },
   "outputs": [
    {
     "data": {
      "image/png": "[encoded data removed]",
      "text/plain": [
       "<Figure size 720x360 with 1 Axes>"
      ]
     },
     "metadata": {},
     "output_type": "display_data"
    }
   ],
   "source": [
    "plt.figure(figsize=(10,5))\n",
    "x_train[cat_col].nunique().plot.bar();"
   ]
  },
  {
   "cell_type": "code",
   "execution_count": 41,
   "id": "excessive-pizza",
   "metadata": {
    "execution": {
     "iopub.execute_input": "2021-06-05T12:07:21.100414Z",
     "iopub.status.busy": "2021-06-05T12:07:21.099424Z",
     "iopub.status.idle": "2021-06-05T12:07:21.229625Z",
     "shell.execute_reply": "2021-06-05T12:07:21.228973Z",
     "shell.execute_reply.started": "2021-06-05T12:04:04.800985Z"
    },
    "papermill": {
     "duration": 0.208248,
     "end_time": "2021-06-05T12:07:21.229799",
     "exception": false,
     "start_time": "2021-06-05T12:07:21.021551",
     "status": "completed"
    },
    "tags": []
   },
   "outputs": [
    {
     "name": "stdout",
     "output_type": "stream",
     "text": [
      "MSZoning\n",
      "C (all)    0.008806\n",
      "FV         0.040117\n",
      "RH         0.011742\n",
      "RL         0.791585\n",
      "RM         0.147750\n",
      "Name: MSZoning, dtype: float64\n",
      "\n",
      "Street\n",
      "Grvl    0.004892\n",
      "Pave    0.995108\n",
      "Name: Street, dtype: float64\n",
      "\n",
      "Alley\n",
      "Grvl       0.034247\n",
      "Missing    0.943249\n",
      "Pave       0.022505\n",
      "Name: Alley, dtype: float64\n",
      "\n",
      "LotShape\n",
      "IR1    0.322896\n",
      "IR2    0.026419\n",
      "IR3    0.006849\n",
      "Reg    0.643836\n",
      "Name: LotShape, dtype: float64\n",
      "\n",
      "LandContour\n",
      "Bnk    0.047945\n",
      "HLS    0.037182\n",
      "Low    0.020548\n",
      "Lvl    0.894325\n",
      "Name: LandContour, dtype: float64\n",
      "\n",
      "Utilities\n",
      "AllPub    0.999022\n",
      "NoSeWa    0.000978\n",
      "Name: Utilities, dtype: float64\n",
      "\n",
      "LotConfig\n",
      "Corner     0.177104\n",
      "CulDSac    0.053816\n",
      "FR2        0.039139\n",
      "FR3        0.003914\n",
      "Inside     0.726027\n",
      "Name: LotConfig, dtype: float64\n",
      "\n",
      "LandSlope\n",
      "Gtl    0.946184\n",
      "Mod    0.045988\n",
      "Sev    0.007828\n",
      "Name: LandSlope, dtype: float64\n",
      "\n",
      "Neighborhood\n",
      "Blmngtn    0.008806\n",
      "Blueste    0.000978\n",
      "BrDale     0.011742\n",
      "BrkSide    0.039139\n",
      "ClearCr    0.019569\n",
      "CollgCr    0.108611\n",
      "Crawfor    0.037182\n",
      "Edwards    0.065558\n",
      "Gilbert    0.055773\n",
      "IDOTRR     0.026419\n",
      "MeadowV    0.011742\n",
      "Mitchel    0.036204\n",
      "NAmes      0.150685\n",
      "NPkVill    0.005871\n",
      "NWAmes     0.047945\n",
      "NoRidge    0.031311\n",
      "NridgHt    0.049902\n",
      "OldTown    0.074364\n",
      "SWISU      0.020548\n",
      "Sawyer     0.046967\n",
      "SawyerW    0.041096\n",
      "Somerst    0.052838\n",
      "StoneBr    0.017613\n",
      "Timber     0.029354\n",
      "Veenker    0.009785\n",
      "Name: Neighborhood, dtype: float64\n",
      "\n",
      "Condition1\n",
      "Artery    0.031311\n",
      "Feedr     0.059687\n",
      "Norm      0.866928\n",
      "PosA      0.006849\n",
      "PosN      0.012720\n",
      "RRAe      0.001957\n",
      "RRAn      0.014677\n",
      "RRNe      0.001957\n",
      "RRNn      0.003914\n",
      "Name: Condition1, dtype: float64\n",
      "\n",
      "Condition2\n",
      "Artery    0.001957\n",
      "Feedr     0.004892\n",
      "Norm      0.990215\n",
      "RRAe      0.000978\n",
      "RRNn      0.001957\n",
      "Name: Condition2, dtype: float64\n",
      "\n",
      "BldgType\n",
      "1Fam      0.833659\n",
      "2fmCon    0.022505\n",
      "Duplex    0.038160\n",
      "Twnhs     0.031311\n",
      "TwnhsE    0.074364\n",
      "Name: BldgType, dtype: float64\n",
      "\n",
      "HouseStyle\n",
      "1.5Fin    0.102740\n",
      "1.5Unf    0.010763\n",
      "1Story    0.492172\n",
      "2.5Fin    0.004892\n",
      "2.5Unf    0.008806\n",
      "2Story    0.303327\n",
      "SFoyer    0.029354\n",
      "SLvl      0.047945\n",
      "Name: HouseStyle, dtype: float64\n",
      "\n",
      "RoofStyle\n",
      "Flat       0.007828\n",
      "Gable      0.777886\n",
      "Gambrel    0.007828\n",
      "Hip        0.199609\n",
      "Mansard    0.004892\n",
      "Shed       0.001957\n",
      "Name: RoofStyle, dtype: float64\n",
      "\n",
      "RoofMatl\n",
      "CompShg    0.983366\n",
      "Metal      0.000978\n",
      "Roll       0.000978\n",
      "Tar&Grv    0.006849\n",
      "WdShake    0.003914\n",
      "WdShngl    0.003914\n",
      "Name: RoofMatl, dtype: float64\n",
      "\n",
      "Exterior1st\n",
      "AsbShng    0.016634\n",
      "AsphShn    0.000978\n",
      "BrkComm    0.001957\n",
      "BrkFace    0.036204\n",
      "CBlock     0.000978\n",
      "CemntBd    0.039139\n",
      "HdBoard    0.165362\n",
      "ImStucc    0.000978\n",
      "MetalSd    0.142857\n",
      "Plywood    0.077299\n",
      "Stone      0.001957\n",
      "Stucco     0.014677\n",
      "VinylSd    0.353229\n",
      "Wd Sdng    0.133072\n",
      "WdShing    0.014677\n",
      "Name: Exterior1st, dtype: float64\n",
      "\n",
      "Exterior2nd\n",
      "AsbShng    0.016634\n",
      "AsphShn    0.002935\n",
      "Brk Cmn    0.004892\n",
      "BrkFace    0.016634\n",
      "CBlock     0.000978\n",
      "CmentBd    0.038160\n",
      "HdBoard    0.155577\n",
      "ImStucc    0.008806\n",
      "MetalSd    0.136986\n",
      "Other      0.000978\n",
      "Plywood    0.096869\n",
      "Stone      0.002935\n",
      "Stucco     0.016634\n",
      "VinylSd    0.346380\n",
      "Wd Sdng    0.132094\n",
      "Wd Shng    0.022505\n",
      "Name: Exterior2nd, dtype: float64\n",
      "\n",
      "MasVnrType\n",
      "BrkCmn     0.009785\n",
      "BrkFace    0.315068\n",
      "None       0.582192\n",
      "Stone      0.089041\n",
      "Name: MasVnrType, dtype: float64\n",
      "\n",
      "ExterQual\n",
      "Ex    0.033268\n",
      "Fa    0.011742\n",
      "Gd    0.335616\n",
      "TA    0.619374\n",
      "Name: ExterQual, dtype: float64\n",
      "\n",
      "ExterCond\n",
      "Ex    0.001957\n",
      "Fa    0.020548\n",
      "Gd    0.104697\n",
      "TA    0.872798\n",
      "Name: ExterCond, dtype: float64\n",
      "\n",
      "Foundation\n",
      "BrkTil    0.099804\n",
      "CBlock    0.431507\n",
      "PConc     0.444227\n",
      "Slab      0.017613\n",
      "Stone     0.004892\n",
      "Wood      0.001957\n",
      "Name: Foundation, dtype: float64\n",
      "\n",
      "BsmtQual\n",
      "Ex    0.082192\n",
      "Fa    0.026419\n",
      "Gd    0.425636\n",
      "TA    0.443249\n",
      "Name: BsmtQual, dtype: float64\n",
      "\n",
      "BsmtCond\n",
      "Fa    0.034247\n",
      "Gd    0.045988\n",
      "Po    0.000978\n",
      "TA    0.896282\n",
      "Name: BsmtCond, dtype: float64\n",
      "\n",
      "BsmtExposure\n",
      "Av    0.158513\n",
      "Gd    0.081213\n",
      "Mn    0.077299\n",
      "No    0.659491\n",
      "Name: BsmtExposure, dtype: float64\n",
      "\n",
      "BsmtFinType1\n",
      "ALQ    0.154599\n",
      "BLQ    0.106654\n",
      "GLQ    0.281800\n",
      "LwQ    0.053816\n",
      "Rec    0.090998\n",
      "Unf    0.289628\n",
      "Name: BsmtFinType1, dtype: float64\n",
      "\n",
      "BsmtFinType2\n",
      "ALQ    0.009785\n",
      "BLQ    0.023483\n",
      "GLQ    0.009785\n",
      "LwQ    0.035225\n",
      "Rec    0.041096\n",
      "Unf    0.858121\n",
      "Name: BsmtFinType2, dtype: float64\n",
      "\n",
      "Heating\n",
      "GasA    0.976517\n",
      "GasW    0.013699\n",
      "Grav    0.005871\n",
      "OthW    0.000978\n",
      "Wall    0.002935\n",
      "Name: Heating, dtype: float64\n",
      "\n",
      "HeatingQC\n",
      "Ex    0.497065\n",
      "Fa    0.036204\n",
      "Gd    0.176125\n",
      "TA    0.290607\n",
      "Name: HeatingQC, dtype: float64\n",
      "\n",
      "CentralAir\n",
      "N    0.064579\n",
      "Y    0.935421\n",
      "Name: CentralAir, dtype: float64\n",
      "\n",
      "Electrical\n",
      "FuseA    0.063601\n",
      "FuseF    0.017613\n",
      "FuseP    0.002935\n",
      "Mix      0.000978\n",
      "SBrkr    0.914873\n",
      "Name: Electrical, dtype: float64\n",
      "\n",
      "KitchenQual\n",
      "Ex    0.065558\n",
      "Fa    0.027397\n",
      "Gd    0.408023\n",
      "TA    0.499022\n",
      "Name: KitchenQual, dtype: float64\n",
      "\n",
      "Functional\n",
      "Maj1    0.008806\n",
      "Maj2    0.004892\n",
      "Min1    0.017613\n",
      "Min2    0.020548\n",
      "Mod     0.006849\n",
      "Sev     0.000978\n",
      "Typ     0.940313\n",
      "Name: Functional, dtype: float64\n",
      "\n",
      "FireplaceQu\n",
      "Ex         0.016634\n",
      "Fa         0.023483\n",
      "Gd         0.260274\n",
      "Missing    0.469667\n",
      "Po         0.011742\n",
      "TA         0.218200\n",
      "Name: FireplaceQu, dtype: float64\n",
      "\n",
      "GarageType\n",
      "2Types     0.004892\n",
      "Attchd     0.602740\n",
      "Basment    0.013699\n",
      "BuiltIn    0.054795\n",
      "CarPort    0.008806\n",
      "Detchd     0.259295\n",
      "Name: GarageType, dtype: float64\n",
      "\n",
      "GarageFinish\n",
      "Fin    0.233855\n",
      "RFn    0.291585\n",
      "Unf    0.418787\n",
      "Name: GarageFinish, dtype: float64\n",
      "\n",
      "GarageQual\n",
      "Ex    0.001957\n",
      "Fa    0.032290\n",
      "Gd    0.010763\n",
      "Po    0.002935\n",
      "TA    0.896282\n",
      "Name: GarageQual, dtype: float64\n",
      "\n",
      "GarageCond\n",
      "Ex    0.001957\n",
      "Fa    0.023483\n",
      "Gd    0.008806\n",
      "Po    0.004892\n",
      "TA    0.905088\n",
      "Name: GarageCond, dtype: float64\n",
      "\n",
      "PavedDrive\n",
      "N    0.060665\n",
      "P    0.022505\n",
      "Y    0.916830\n",
      "Name: PavedDrive, dtype: float64\n",
      "\n",
      "PoolQC\n",
      "Ex         0.001957\n",
      "Fa         0.001957\n",
      "Gd         0.001957\n",
      "Missing    0.994129\n",
      "Name: PoolQC, dtype: float64\n",
      "\n",
      "Fence\n",
      "GdPrv      0.038160\n",
      "GdWo       0.033268\n",
      "Missing    0.816047\n",
      "MnPrv      0.104697\n",
      "MnWw       0.007828\n",
      "Name: Fence, dtype: float64\n",
      "\n",
      "MiscFeature\n",
      "Gar2       0.000978\n",
      "Missing    0.966732\n",
      "Othr       0.001957\n",
      "Shed       0.029354\n",
      "TenC       0.000978\n",
      "Name: MiscFeature, dtype: float64\n",
      "\n",
      "SaleType\n",
      "COD      0.029354\n",
      "CWD      0.001957\n",
      "Con      0.001957\n",
      "ConLD    0.005871\n",
      "ConLI    0.002935\n",
      "ConLw    0.004892\n",
      "New      0.079256\n",
      "Oth      0.000978\n",
      "WD       0.872798\n",
      "Name: SaleType, dtype: float64\n",
      "\n",
      "SaleCondition\n",
      "Abnorml    0.069472\n",
      "AdjLand    0.001957\n",
      "Alloca     0.008806\n",
      "Family     0.013699\n",
      "Normal     0.823875\n",
      "Partial    0.082192\n",
      "Name: SaleCondition, dtype: float64\n",
      "\n",
      "OverallCond\n",
      "Poor       0.055773\n",
      "Average    0.745597\n",
      "Good       0.182975\n",
      "Name: OverallCond, dtype: float64\n",
      "\n",
      "BsmtFullBath\n",
      "0-1    0.988258\n",
      "1-2    0.010763\n",
      "2-3    0.000978\n",
      "Name: BsmtFullBath, dtype: float64\n",
      "\n",
      "BsmtHalfBath\n",
      "0-1    0.999022\n",
      "1-2    0.000978\n",
      "Name: BsmtHalfBath, dtype: float64\n",
      "\n",
      "FullBath\n",
      "0-1    0.457926\n",
      "1-2    0.521526\n",
      "2-3    0.020548\n",
      "Name: FullBath, dtype: float64\n",
      "\n",
      "HalfBath\n",
      "0-1    0.991194\n",
      "1-2    0.008806\n",
      "Name: HalfBath, dtype: float64\n",
      "\n",
      "BedroomAbvGr\n",
      "0-2    0.284736\n",
      "2-4    0.695695\n",
      "4-6    0.018591\n",
      "6-8    0.000978\n",
      "Name: BedroomAbvGr, dtype: float64\n",
      "\n",
      "KitchenAbvGr\n",
      "0-1    0.952055\n",
      "1-2    0.047945\n",
      "Name: KitchenAbvGr, dtype: float64\n",
      "\n",
      "Fireplaces\n",
      "0-1    0.913894\n",
      "1-2    0.083170\n",
      "2-3    0.002935\n",
      "Name: Fireplaces, dtype: float64\n",
      "\n",
      "GarageCars\n",
      "0-2    0.869863\n",
      "2-4    0.130137\n",
      "Name: GarageCars, dtype: float64\n",
      "\n",
      "PoolArea\n",
      "Below 500          0.994129\n",
      "Between 500-600    0.003914\n",
      "Above 600          0.001957\n",
      "Name: PoolArea, dtype: float64\n",
      "\n",
      "YrSold\n",
      "2006-2008    0.643836\n",
      "2008-2010    0.356164\n",
      "Name: YrSold, dtype: float64\n",
      "\n"
     ]
    }
   ],
   "source": [
    "# Percentage of observations in each category in the respective categorical columns\n",
    "for col in cat_col:\n",
    "    \n",
    "    print(x_train.groupby(col)[col].count() / len(x_train)) # frequency\n",
    "    print()"
   ]
  },
  {
   "cell_type": "markdown",
   "id": "trying-basics",
   "metadata": {
    "papermill": {
     "duration": 0.076299,
     "end_time": "2021-06-05T12:07:21.384796",
     "exception": false,
     "start_time": "2021-06-05T12:07:21.308497",
     "status": "completed"
    },
    "tags": []
   },
   "source": [
    "we can see some categories occur more frequently than others. we will set a certain threshold regarding percentage of appearance of a category below which we will identify the category as a rare label"
   ]
  },
  {
   "cell_type": "code",
   "execution_count": 42,
   "id": "heavy-zambia",
   "metadata": {
    "execution": {
     "iopub.execute_input": "2021-06-05T12:07:21.542554Z",
     "iopub.status.busy": "2021-06-05T12:07:21.541620Z",
     "iopub.status.idle": "2021-06-05T12:07:21.545721Z",
     "shell.execute_reply": "2021-06-05T12:07:21.545051Z",
     "shell.execute_reply.started": "2021-06-05T12:04:04.919417Z"
    },
    "papermill": {
     "duration": 0.086045,
     "end_time": "2021-06-05T12:07:21.545907",
     "exception": false,
     "start_time": "2021-06-05T12:07:21.459862",
     "status": "completed"
    },
    "tags": []
   },
   "outputs": [],
   "source": [
    "def non_rare_labels(data, var, tolerance):\n",
    "    \n",
    "    temp = data.groupby([var])[var].count() / len(data)\n",
    "    \n",
    "    non_rare = [x for x in temp.loc[temp>tolerance].index.values]\n",
    "    \n",
    "    return non_rare"
   ]
  },
  {
   "cell_type": "code",
   "execution_count": 43,
   "id": "defined-enforcement",
   "metadata": {
    "execution": {
     "iopub.execute_input": "2021-06-05T12:07:21.703770Z",
     "iopub.status.busy": "2021-06-05T12:07:21.702711Z",
     "iopub.status.idle": "2021-06-05T12:07:21.706363Z",
     "shell.execute_reply": "2021-06-05T12:07:21.705759Z",
     "shell.execute_reply.started": "2021-06-05T12:04:04.927707Z"
    },
    "papermill": {
     "duration": 0.086332,
     "end_time": "2021-06-05T12:07:21.706530",
     "exception": false,
     "start_time": "2021-06-05T12:07:21.620198",
     "status": "completed"
    },
    "tags": []
   },
   "outputs": [],
   "source": [
    "def rare_encoding(x_train,x_val,x_test,var,tolerance):\n",
    "    x_train = x_train.copy()\n",
    "    x_val=x_val.copy()\n",
    "    x_test = x_test.copy()\n",
    "    \n",
    "    freq_category=non_rare_labels(x_train,var,tolerance)\n",
    "    x_train[var]=np.where(x_train[var].isin(freq_category),x_train[var],'Rare')\n",
    "    x_val[var]=np.where(x_val[var].isin(freq_category),x_val[var],'Rare')\n",
    "    x_test[var]=np.where(x_test[var].isin(freq_category),x_test[var],'Rare')\n",
    "    \n",
    "    return x_train,x_val,x_test"
   ]
  },
  {
   "cell_type": "code",
   "execution_count": 44,
   "id": "ordinary-columbia",
   "metadata": {
    "execution": {
     "iopub.execute_input": "2021-06-05T12:07:21.887419Z",
     "iopub.status.busy": "2021-06-05T12:07:21.885293Z",
     "iopub.status.idle": "2021-06-05T12:07:22.224810Z",
     "shell.execute_reply": "2021-06-05T12:07:22.224156Z",
     "shell.execute_reply.started": "2021-06-05T12:04:04.944007Z"
    },
    "papermill": {
     "duration": 0.439363,
     "end_time": "2021-06-05T12:07:22.224999",
     "exception": false,
     "start_time": "2021-06-05T12:07:21.785636",
     "status": "completed"
    },
    "tags": []
   },
   "outputs": [],
   "source": [
    "# setting the threshold to 0.05 below which the obeservation in the category \n",
    "# will be renamed as rare label.i.e they occcur rarely\n",
    "for col in cat_col:\n",
    "    x_train,x_val,x_test=rare_encoding(x_train,x_val,x_test,col,tolerance=0.05)"
   ]
  },
  {
   "cell_type": "markdown",
   "id": "rural-agency",
   "metadata": {
    "papermill": {
     "duration": 0.075735,
     "end_time": "2021-06-05T12:07:22.375199",
     "exception": false,
     "start_time": "2021-06-05T12:07:22.299464",
     "status": "completed"
    },
    "tags": []
   },
   "source": [
    "## Target Encoding the categorical variables"
   ]
  },
  {
   "cell_type": "code",
   "execution_count": 45,
   "id": "excellent-atmosphere",
   "metadata": {
    "execution": {
     "iopub.execute_input": "2021-06-05T12:07:22.530987Z",
     "iopub.status.busy": "2021-06-05T12:07:22.529883Z",
     "iopub.status.idle": "2021-06-05T12:07:22.533851Z",
     "shell.execute_reply": "2021-06-05T12:07:22.533205Z",
     "shell.execute_reply.started": "2021-06-05T12:04:05.247993Z"
    },
    "papermill": {
     "duration": 0.084844,
     "end_time": "2021-06-05T12:07:22.533999",
     "exception": false,
     "start_time": "2021-06-05T12:07:22.449155",
     "status": "completed"
    },
    "tags": []
   },
   "outputs": [],
   "source": [
    "# Encoding the categories with target variable i.e  mean SalePrice\n",
    "# i.e Ordering the categories according to the target means assigning a number \n",
    "# to the category from 1 to k, where k is the number of distinct categories in the variable, \n",
    "# but this numbering is informed by the mean of the target for each category.\n",
    "\n",
    "def maps(df,var,target):\n",
    "  categories=df.groupby([var])[target].mean().sort_values(ascending=False).index\n",
    "\n",
    "  mappings={k:i for i, k in enumerate(categories,0)}\n",
    "\n",
    "  return mappings\n",
    "\n",
    "def target_encode(train,val,test,var,mappings):\n",
    "    x_train[var]=x_train[var].map(mappings)\n",
    "    x_val[var]=x_val[var].map(mappings)\n",
    "    x_test[var]=x_test[var].map(mappings)"
   ]
  },
  {
   "cell_type": "code",
   "execution_count": 46,
   "id": "prospective-liberia",
   "metadata": {
    "execution": {
     "iopub.execute_input": "2021-06-05T12:07:22.692859Z",
     "iopub.status.busy": "2021-06-05T12:07:22.690972Z",
     "iopub.status.idle": "2021-06-05T12:07:22.940151Z",
     "shell.execute_reply": "2021-06-05T12:07:22.939557Z",
     "shell.execute_reply.started": "2021-06-05T12:04:05.258481Z"
    },
    "papermill": {
     "duration": 0.332946,
     "end_time": "2021-06-05T12:07:22.940298",
     "exception": false,
     "start_time": "2021-06-05T12:07:22.607352",
     "status": "completed"
    },
    "tags": []
   },
   "outputs": [],
   "source": [
    "for var in cat_col:\n",
    "    mappings=maps(x_train,var,'SalePrice')\n",
    "    target_encode(x_train,x_val,x_test,var,mappings)"
   ]
  },
  {
   "cell_type": "code",
   "execution_count": 47,
   "id": "burning-selling",
   "metadata": {
    "execution": {
     "iopub.execute_input": "2021-06-05T12:07:23.094793Z",
     "iopub.status.busy": "2021-06-05T12:07:23.092599Z",
     "iopub.status.idle": "2021-06-05T12:07:23.116135Z",
     "shell.execute_reply": "2021-06-05T12:07:23.115570Z",
     "shell.execute_reply.started": "2021-06-05T12:04:05.521917Z"
    },
    "papermill": {
     "duration": 0.102479,
     "end_time": "2021-06-05T12:07:23.116286",
     "exception": false,
     "start_time": "2021-06-05T12:07:23.013807",
     "status": "completed"
    },
    "tags": []
   },
   "outputs": [
    {
     "data": {
      "text/html": [
       "<div>\n",
       "<style scoped>\n",
       "    .dataframe tbody tr th:only-of-type {\n",
       "        vertical-align: middle;\n",
       "    }\n",
       "\n",
       "    .dataframe tbody tr th {\n",
       "        vertical-align: top;\n",
       "    }\n",
       "\n",
       "    .dataframe thead th {\n",
       "        text-align: right;\n",
       "    }\n",
       "</style>\n",
       "<table border=\"1\" class=\"dataframe\">\n",
       "  <thead>\n",
       "    <tr style=\"text-align: right;\">\n",
       "      <th></th>\n",
       "      <th>MSSubClass</th>\n",
       "      <th>MSZoning</th>\n",
       "      <th>LotFrontage</th>\n",
       "      <th>LotArea</th>\n",
       "      <th>Street</th>\n",
       "      <th>Alley</th>\n",
       "      <th>LotShape</th>\n",
       "      <th>LandContour</th>\n",
       "      <th>Utilities</th>\n",
       "      <th>LotConfig</th>\n",
       "      <th>...</th>\n",
       "      <th>PoolArea</th>\n",
       "      <th>PoolQC</th>\n",
       "      <th>Fence</th>\n",
       "      <th>MiscFeature</th>\n",
       "      <th>MiscVal</th>\n",
       "      <th>MoSold</th>\n",
       "      <th>YrSold</th>\n",
       "      <th>SaleType</th>\n",
       "      <th>SaleCondition</th>\n",
       "      <th>SalePrice</th>\n",
       "    </tr>\n",
       "  </thead>\n",
       "  <tbody>\n",
       "    <tr>\n",
       "      <th>512</th>\n",
       "      <td>20</td>\n",
       "      <td>0</td>\n",
       "      <td>70.0</td>\n",
       "      <td>9100</td>\n",
       "      <td>0</td>\n",
       "      <td>0</td>\n",
       "      <td>2</td>\n",
       "      <td>0</td>\n",
       "      <td>0</td>\n",
       "      <td>1</td>\n",
       "      <td>...</td>\n",
       "      <td>1</td>\n",
       "      <td>1</td>\n",
       "      <td>0</td>\n",
       "      <td>0</td>\n",
       "      <td>0</td>\n",
       "      <td>7</td>\n",
       "      <td>0</td>\n",
       "      <td>1</td>\n",
       "      <td>1</td>\n",
       "      <td>129900</td>\n",
       "    </tr>\n",
       "    <tr>\n",
       "      <th>343</th>\n",
       "      <td>120</td>\n",
       "      <td>0</td>\n",
       "      <td>63.0</td>\n",
       "      <td>8849</td>\n",
       "      <td>0</td>\n",
       "      <td>0</td>\n",
       "      <td>1</td>\n",
       "      <td>0</td>\n",
       "      <td>0</td>\n",
       "      <td>3</td>\n",
       "      <td>...</td>\n",
       "      <td>1</td>\n",
       "      <td>1</td>\n",
       "      <td>0</td>\n",
       "      <td>0</td>\n",
       "      <td>0</td>\n",
       "      <td>7</td>\n",
       "      <td>0</td>\n",
       "      <td>1</td>\n",
       "      <td>1</td>\n",
       "      <td>266000</td>\n",
       "    </tr>\n",
       "    <tr>\n",
       "      <th>290</th>\n",
       "      <td>60</td>\n",
       "      <td>0</td>\n",
       "      <td>120.0</td>\n",
       "      <td>15611</td>\n",
       "      <td>0</td>\n",
       "      <td>0</td>\n",
       "      <td>2</td>\n",
       "      <td>0</td>\n",
       "      <td>0</td>\n",
       "      <td>3</td>\n",
       "      <td>...</td>\n",
       "      <td>1</td>\n",
       "      <td>1</td>\n",
       "      <td>0</td>\n",
       "      <td>0</td>\n",
       "      <td>0</td>\n",
       "      <td>7</td>\n",
       "      <td>0</td>\n",
       "      <td>0</td>\n",
       "      <td>0</td>\n",
       "      <td>233230</td>\n",
       "    </tr>\n",
       "    <tr>\n",
       "      <th>163</th>\n",
       "      <td>45</td>\n",
       "      <td>0</td>\n",
       "      <td>55.0</td>\n",
       "      <td>5500</td>\n",
       "      <td>0</td>\n",
       "      <td>0</td>\n",
       "      <td>2</td>\n",
       "      <td>0</td>\n",
       "      <td>0</td>\n",
       "      <td>3</td>\n",
       "      <td>...</td>\n",
       "      <td>1</td>\n",
       "      <td>1</td>\n",
       "      <td>2</td>\n",
       "      <td>0</td>\n",
       "      <td>0</td>\n",
       "      <td>4</td>\n",
       "      <td>0</td>\n",
       "      <td>1</td>\n",
       "      <td>1</td>\n",
       "      <td>103200</td>\n",
       "    </tr>\n",
       "    <tr>\n",
       "      <th>234</th>\n",
       "      <td>60</td>\n",
       "      <td>0</td>\n",
       "      <td>141.5</td>\n",
       "      <td>7851</td>\n",
       "      <td>0</td>\n",
       "      <td>0</td>\n",
       "      <td>2</td>\n",
       "      <td>0</td>\n",
       "      <td>0</td>\n",
       "      <td>3</td>\n",
       "      <td>...</td>\n",
       "      <td>1</td>\n",
       "      <td>1</td>\n",
       "      <td>0</td>\n",
       "      <td>0</td>\n",
       "      <td>0</td>\n",
       "      <td>5</td>\n",
       "      <td>1</td>\n",
       "      <td>1</td>\n",
       "      <td>1</td>\n",
       "      <td>216500</td>\n",
       "    </tr>\n",
       "  </tbody>\n",
       "</table>\n",
       "<p>5 rows × 80 columns</p>\n",
       "</div>"
      ],
      "text/plain": [
       "     MSSubClass  MSZoning  LotFrontage  LotArea  Street  Alley  LotShape  \\\n",
       "512          20         0         70.0     9100       0      0         2   \n",
       "343         120         0         63.0     8849       0      0         1   \n",
       "290          60         0        120.0    15611       0      0         2   \n",
       "163          45         0         55.0     5500       0      0         2   \n",
       "234          60         0        141.5     7851       0      0         2   \n",
       "\n",
       "     LandContour  Utilities  LotConfig  ...  PoolArea  PoolQC  Fence  \\\n",
       "512            0          0          1  ...         1       1      0   \n",
       "343            0          0          3  ...         1       1      0   \n",
       "290            0          0          3  ...         1       1      0   \n",
       "163            0          0          3  ...         1       1      2   \n",
       "234            0          0          3  ...         1       1      0   \n",
       "\n",
       "     MiscFeature  MiscVal  MoSold  YrSold  SaleType  SaleCondition  SalePrice  \n",
       "512            0        0       7       0         1              1     129900  \n",
       "343            0        0       7       0         1              1     266000  \n",
       "290            0        0       7       0         0              0     233230  \n",
       "163            0        0       4       0         1              1     103200  \n",
       "234            0        0       5       1         1              1     216500  \n",
       "\n",
       "[5 rows x 80 columns]"
      ]
     },
     "execution_count": 47,
     "metadata": {},
     "output_type": "execute_result"
    }
   ],
   "source": [
    "x_train.head()"
   ]
  },
  {
   "cell_type": "code",
   "execution_count": 48,
   "id": "vital-final",
   "metadata": {
    "execution": {
     "iopub.execute_input": "2021-06-05T12:07:23.289136Z",
     "iopub.status.busy": "2021-06-05T12:07:23.269999Z",
     "iopub.status.idle": "2021-06-05T12:07:23.294459Z",
     "shell.execute_reply": "2021-06-05T12:07:23.293908Z",
     "shell.execute_reply.started": "2021-06-05T12:04:05.552144Z"
    },
    "papermill": {
     "duration": 0.10344,
     "end_time": "2021-06-05T12:07:23.294608",
     "exception": false,
     "start_time": "2021-06-05T12:07:23.191168",
     "status": "completed"
    },
    "tags": []
   },
   "outputs": [
    {
     "data": {
      "text/html": [
       "<div>\n",
       "<style scoped>\n",
       "    .dataframe tbody tr th:only-of-type {\n",
       "        vertical-align: middle;\n",
       "    }\n",
       "\n",
       "    .dataframe tbody tr th {\n",
       "        vertical-align: top;\n",
       "    }\n",
       "\n",
       "    .dataframe thead th {\n",
       "        text-align: right;\n",
       "    }\n",
       "</style>\n",
       "<table border=\"1\" class=\"dataframe\">\n",
       "  <thead>\n",
       "    <tr style=\"text-align: right;\">\n",
       "      <th></th>\n",
       "      <th>MSSubClass</th>\n",
       "      <th>MSZoning</th>\n",
       "      <th>LotFrontage</th>\n",
       "      <th>LotArea</th>\n",
       "      <th>Street</th>\n",
       "      <th>Alley</th>\n",
       "      <th>LotShape</th>\n",
       "      <th>LandContour</th>\n",
       "      <th>Utilities</th>\n",
       "      <th>LotConfig</th>\n",
       "      <th>...</th>\n",
       "      <th>ScreenPorch</th>\n",
       "      <th>PoolArea</th>\n",
       "      <th>PoolQC</th>\n",
       "      <th>Fence</th>\n",
       "      <th>MiscFeature</th>\n",
       "      <th>MiscVal</th>\n",
       "      <th>MoSold</th>\n",
       "      <th>YrSold</th>\n",
       "      <th>SaleType</th>\n",
       "      <th>SaleCondition</th>\n",
       "    </tr>\n",
       "  </thead>\n",
       "  <tbody>\n",
       "    <tr>\n",
       "      <th>1399</th>\n",
       "      <td>50</td>\n",
       "      <td>0</td>\n",
       "      <td>51.0</td>\n",
       "      <td>6171</td>\n",
       "      <td>0</td>\n",
       "      <td>0</td>\n",
       "      <td>2</td>\n",
       "      <td>0</td>\n",
       "      <td>0</td>\n",
       "      <td>3</td>\n",
       "      <td>...</td>\n",
       "      <td>0</td>\n",
       "      <td>1</td>\n",
       "      <td>1</td>\n",
       "      <td>2</td>\n",
       "      <td>0</td>\n",
       "      <td>0</td>\n",
       "      <td>10</td>\n",
       "      <td>1</td>\n",
       "      <td>1</td>\n",
       "      <td>1</td>\n",
       "    </tr>\n",
       "    <tr>\n",
       "      <th>578</th>\n",
       "      <td>160</td>\n",
       "      <td>1</td>\n",
       "      <td>34.0</td>\n",
       "      <td>3604</td>\n",
       "      <td>0</td>\n",
       "      <td>1</td>\n",
       "      <td>2</td>\n",
       "      <td>0</td>\n",
       "      <td>0</td>\n",
       "      <td>1</td>\n",
       "      <td>...</td>\n",
       "      <td>0</td>\n",
       "      <td>1</td>\n",
       "      <td>1</td>\n",
       "      <td>0</td>\n",
       "      <td>0</td>\n",
       "      <td>0</td>\n",
       "      <td>2</td>\n",
       "      <td>0</td>\n",
       "      <td>1</td>\n",
       "      <td>3</td>\n",
       "    </tr>\n",
       "    <tr>\n",
       "      <th>318</th>\n",
       "      <td>60</td>\n",
       "      <td>0</td>\n",
       "      <td>90.0</td>\n",
       "      <td>9900</td>\n",
       "      <td>0</td>\n",
       "      <td>0</td>\n",
       "      <td>2</td>\n",
       "      <td>1</td>\n",
       "      <td>0</td>\n",
       "      <td>3</td>\n",
       "      <td>...</td>\n",
       "      <td>0</td>\n",
       "      <td>1</td>\n",
       "      <td>1</td>\n",
       "      <td>0</td>\n",
       "      <td>0</td>\n",
       "      <td>0</td>\n",
       "      <td>4</td>\n",
       "      <td>1</td>\n",
       "      <td>1</td>\n",
       "      <td>1</td>\n",
       "    </tr>\n",
       "    <tr>\n",
       "      <th>1340</th>\n",
       "      <td>20</td>\n",
       "      <td>0</td>\n",
       "      <td>70.0</td>\n",
       "      <td>8294</td>\n",
       "      <td>0</td>\n",
       "      <td>0</td>\n",
       "      <td>2</td>\n",
       "      <td>0</td>\n",
       "      <td>0</td>\n",
       "      <td>3</td>\n",
       "      <td>...</td>\n",
       "      <td>0</td>\n",
       "      <td>1</td>\n",
       "      <td>1</td>\n",
       "      <td>1</td>\n",
       "      <td>0</td>\n",
       "      <td>0</td>\n",
       "      <td>6</td>\n",
       "      <td>0</td>\n",
       "      <td>1</td>\n",
       "      <td>1</td>\n",
       "    </tr>\n",
       "    <tr>\n",
       "      <th>654</th>\n",
       "      <td>20</td>\n",
       "      <td>0</td>\n",
       "      <td>91.0</td>\n",
       "      <td>10437</td>\n",
       "      <td>0</td>\n",
       "      <td>0</td>\n",
       "      <td>1</td>\n",
       "      <td>0</td>\n",
       "      <td>0</td>\n",
       "      <td>3</td>\n",
       "      <td>...</td>\n",
       "      <td>0</td>\n",
       "      <td>1</td>\n",
       "      <td>1</td>\n",
       "      <td>0</td>\n",
       "      <td>0</td>\n",
       "      <td>0</td>\n",
       "      <td>8</td>\n",
       "      <td>0</td>\n",
       "      <td>1</td>\n",
       "      <td>1</td>\n",
       "    </tr>\n",
       "  </tbody>\n",
       "</table>\n",
       "<p>5 rows × 79 columns</p>\n",
       "</div>"
      ],
      "text/plain": [
       "      MSSubClass  MSZoning  LotFrontage  LotArea  Street  Alley  LotShape  \\\n",
       "1399          50         0         51.0     6171       0      0         2   \n",
       "578          160         1         34.0     3604       0      1         2   \n",
       "318           60         0         90.0     9900       0      0         2   \n",
       "1340          20         0         70.0     8294       0      0         2   \n",
       "654           20         0         91.0    10437       0      0         1   \n",
       "\n",
       "      LandContour  Utilities  LotConfig  ...  ScreenPorch  PoolArea  PoolQC  \\\n",
       "1399            0          0          3  ...            0         1       1   \n",
       "578             0          0          1  ...            0         1       1   \n",
       "318             1          0          3  ...            0         1       1   \n",
       "1340            0          0          3  ...            0         1       1   \n",
       "654             0          0          3  ...            0         1       1   \n",
       "\n",
       "      Fence  MiscFeature  MiscVal  MoSold  YrSold  SaleType  SaleCondition  \n",
       "1399      2            0        0      10       1         1              1  \n",
       "578       0            0        0       2       0         1              3  \n",
       "318       0            0        0       4       1         1              1  \n",
       "1340      1            0        0       6       0         1              1  \n",
       "654       0            0        0       8       0         1              1  \n",
       "\n",
       "[5 rows x 79 columns]"
      ]
     },
     "execution_count": 48,
     "metadata": {},
     "output_type": "execute_result"
    }
   ],
   "source": [
    "x_val.head()"
   ]
  },
  {
   "cell_type": "code",
   "execution_count": 49,
   "id": "sophisticated-audience",
   "metadata": {
    "execution": {
     "iopub.execute_input": "2021-06-05T12:07:23.473479Z",
     "iopub.status.busy": "2021-06-05T12:07:23.472756Z",
     "iopub.status.idle": "2021-06-05T12:07:24.275724Z",
     "shell.execute_reply": "2021-06-05T12:07:24.276272Z",
     "shell.execute_reply.started": "2021-06-05T12:04:05.580210Z"
    },
    "papermill": {
     "duration": 0.90727,
     "end_time": "2021-06-05T12:07:24.276445",
     "exception": false,
     "start_time": "2021-06-05T12:07:23.369175",
     "status": "completed"
    },
    "tags": []
   },
   "outputs": [
    {
     "data": {
      "image/png": "[encoded data removed]",
      "text/plain": [
       "<Figure size 1800x360 with 4 Axes>"
      ]
     },
     "metadata": {},
     "output_type": "display_data"
    }
   ],
   "source": [
    "plt.figure(figsize=(25,5))\n",
    "plt.subplot(1,6,1)\n",
    "x_train.groupby('OverallCond')['SalePrice'].mean().plot(color='r')\n",
    "plt.ylabel('SalePrice')\n",
    "plt.subplot(1,6,2)\n",
    "x_train.groupby('BsmtFullBath')['SalePrice'].mean().plot(label='BsmtFullBath',color='r')\n",
    "x_train.groupby('BsmtHalfBath')['SalePrice'].mean().plot(label='BsmtHalfBath',color='k')\n",
    "plt.legend(loc='upper left')\n",
    "plt.subplot(1,6,3)\n",
    "x_train.groupby('FullBath')['SalePrice'].mean().plot(label='FullBath',color='r')\n",
    "x_train.groupby('HalfBath')['SalePrice'].mean().plot(label='HalfBath',color='k')\n",
    "plt.legend()\n",
    "plt.subplot(1,6,4)\n",
    "x_train.groupby('BedroomAbvGr')['SalePrice'].mean().plot(label='BedroomAbvGr',color='r')\n",
    "x_train.groupby('KitchenAbvGr')['SalePrice'].mean().plot(label='KitchenAbvGr',color='k')\n",
    "plt.legend(loc='upper right')\n",
    "plt.tight_layout()"
   ]
  },
  {
   "cell_type": "code",
   "execution_count": 50,
   "id": "split-float",
   "metadata": {
    "execution": {
     "iopub.execute_input": "2021-06-05T12:07:24.469705Z",
     "iopub.status.busy": "2021-06-05T12:07:24.467244Z",
     "iopub.status.idle": "2021-06-05T12:07:25.009082Z",
     "shell.execute_reply": "2021-06-05T12:07:25.009594Z",
     "shell.execute_reply.started": "2021-06-05T12:04:06.433349Z"
    },
    "papermill": {
     "duration": 0.65671,
     "end_time": "2021-06-05T12:07:25.009785",
     "exception": false,
     "start_time": "2021-06-05T12:07:24.353075",
     "status": "completed"
    },
    "tags": []
   },
   "outputs": [
    {
     "data": {
      "image/png": "[encoded data removed]",
      "text/plain": [
       "<Figure size 1080x360 with 4 Axes>"
      ]
     },
     "metadata": {},
     "output_type": "display_data"
    }
   ],
   "source": [
    "plt.figure(figsize=(15,5))\n",
    "plt.subplot(1,4,1)\n",
    "x_train.groupby('Fireplaces')['SalePrice'].mean().plot(color='r')\n",
    "plt.ylabel('SalePrice')\n",
    "plt.subplot(1,4,2)\n",
    "x_train.groupby('GarageCars')['SalePrice'].mean().plot(color='r')\n",
    "plt.subplot(1,4,3)\n",
    "x_train.groupby('PoolArea')['SalePrice'].mean().plot(color='r')\n",
    "plt.subplot(1,4,4)\n",
    "x_train.groupby('YrSold')['SalePrice'].mean().plot(color='r')\n",
    "plt.tight_layout()"
   ]
  },
  {
   "cell_type": "markdown",
   "id": "rubber-victoria",
   "metadata": {
    "papermill": {
     "duration": 0.081712,
     "end_time": "2021-06-05T12:07:25.171007",
     "exception": false,
     "start_time": "2021-06-05T12:07:25.089295",
     "status": "completed"
    },
    "tags": []
   },
   "source": [
    "We can see that most of the variable shows somewhat montonic relationship with the target variable compare to before ,which we visualised previously ."
   ]
  },
  {
   "cell_type": "code",
   "execution_count": 51,
   "id": "related-receipt",
   "metadata": {
    "execution": {
     "iopub.execute_input": "2021-06-05T12:07:25.336073Z",
     "iopub.status.busy": "2021-06-05T12:07:25.335428Z",
     "iopub.status.idle": "2021-06-05T12:07:25.340364Z",
     "shell.execute_reply": "2021-06-05T12:07:25.339833Z",
     "shell.execute_reply.started": "2021-06-05T12:04:07.079548Z"
    },
    "papermill": {
     "duration": 0.08997,
     "end_time": "2021-06-05T12:07:25.340521",
     "exception": false,
     "start_time": "2021-06-05T12:07:25.250551",
     "status": "completed"
    },
    "tags": []
   },
   "outputs": [],
   "source": [
    "# Droping the target column i.e SalePrice\n",
    "x_train.drop(columns=['SalePrice'],axis=1,inplace=True)"
   ]
  },
  {
   "cell_type": "code",
   "execution_count": 52,
   "id": "weekly-fitting",
   "metadata": {
    "execution": {
     "iopub.execute_input": "2021-06-05T12:07:25.504457Z",
     "iopub.status.busy": "2021-06-05T12:07:25.503379Z",
     "iopub.status.idle": "2021-06-05T12:07:25.527533Z",
     "shell.execute_reply": "2021-06-05T12:07:25.528013Z",
     "shell.execute_reply.started": "2021-06-05T12:04:07.088949Z"
    },
    "papermill": {
     "duration": 0.10667,
     "end_time": "2021-06-05T12:07:25.528194",
     "exception": false,
     "start_time": "2021-06-05T12:07:25.421524",
     "status": "completed"
    },
    "tags": []
   },
   "outputs": [
    {
     "data": {
      "text/plain": [
       "['BsmtFinSF1',\n",
       " 'BsmtFinSF2',\n",
       " 'BsmtUnfSF',\n",
       " 'TotalBsmtSF',\n",
       " 'GarageCars',\n",
       " 'GarageArea']"
      ]
     },
     "execution_count": 52,
     "metadata": {},
     "output_type": "execute_result"
    }
   ],
   "source": [
    "# Still some missing values present in the test data\n",
    "missing_values=[var for var in x_test.columns if x_test[var].isnull().mean()>0]\n",
    "missing_values"
   ]
  },
  {
   "cell_type": "code",
   "execution_count": 53,
   "id": "scenic-cutting",
   "metadata": {
    "execution": {
     "iopub.execute_input": "2021-06-05T12:07:25.690160Z",
     "iopub.status.busy": "2021-06-05T12:07:25.689198Z",
     "iopub.status.idle": "2021-06-05T12:07:25.702194Z",
     "shell.execute_reply": "2021-06-05T12:07:25.701571Z",
     "shell.execute_reply.started": "2021-06-05T12:04:07.132710Z"
    },
    "papermill": {
     "duration": 0.095252,
     "end_time": "2021-06-05T12:07:25.702344",
     "exception": false,
     "start_time": "2021-06-05T12:07:25.607092",
     "status": "completed"
    },
    "tags": []
   },
   "outputs": [],
   "source": [
    "# Droping the columns containing missing data  also in train and validation data to \n",
    "# prevent overfitting\n",
    "x_train.drop(columns=missing_values,axis=1,inplace=True)\n",
    "x_val.drop(columns=missing_values,axis=1,inplace=True)\n",
    "x_test.drop(columns=missing_values,axis=1,inplace=True)"
   ]
  },
  {
   "cell_type": "code",
   "execution_count": 54,
   "id": "funky-divorce",
   "metadata": {
    "execution": {
     "iopub.execute_input": "2021-06-05T12:07:25.867609Z",
     "iopub.status.busy": "2021-06-05T12:07:25.866938Z",
     "iopub.status.idle": "2021-06-05T12:07:25.871593Z",
     "shell.execute_reply": "2021-06-05T12:07:25.872109Z",
     "shell.execute_reply.started": "2021-06-05T12:04:07.150179Z"
    },
    "papermill": {
     "duration": 0.088676,
     "end_time": "2021-06-05T12:07:25.872299",
     "exception": false,
     "start_time": "2021-06-05T12:07:25.783623",
     "status": "completed"
    },
    "tags": []
   },
   "outputs": [],
   "source": [
    "# Storing the id of the test columns and using the remaining columns for prediction\n",
    "Id=x_test['Id']\n",
    "x_test=x_test.iloc[:,1:]"
   ]
  },
  {
   "cell_type": "code",
   "execution_count": 55,
   "id": "extra-cheese",
   "metadata": {
    "execution": {
     "iopub.execute_input": "2021-06-05T12:07:26.036577Z",
     "iopub.status.busy": "2021-06-05T12:07:26.035938Z",
     "iopub.status.idle": "2021-06-05T12:07:26.040725Z",
     "shell.execute_reply": "2021-06-05T12:07:26.041253Z",
     "shell.execute_reply.started": "2021-06-05T12:04:07.162971Z"
    },
    "papermill": {
     "duration": 0.088984,
     "end_time": "2021-06-05T12:07:26.041426",
     "exception": false,
     "start_time": "2021-06-05T12:07:25.952442",
     "status": "completed"
    },
    "tags": []
   },
   "outputs": [
    {
     "data": {
      "text/plain": [
       "((1022, 73), (438, 73), (1459, 73))"
      ]
     },
     "execution_count": 55,
     "metadata": {},
     "output_type": "execute_result"
    }
   ],
   "source": [
    "x_train.shape,x_val.shape,x_test.shape"
   ]
  },
  {
   "cell_type": "markdown",
   "id": "embedded-ending",
   "metadata": {
    "papermill": {
     "duration": 0.079748,
     "end_time": "2021-06-05T12:07:26.201178",
     "exception": false,
     "start_time": "2021-06-05T12:07:26.121430",
     "status": "completed"
    },
    "tags": []
   },
   "source": [
    "## Training the model"
   ]
  },
  {
   "cell_type": "code",
   "execution_count": 56,
   "id": "lasting-salvation",
   "metadata": {
    "execution": {
     "iopub.execute_input": "2021-06-05T12:07:26.367508Z",
     "iopub.status.busy": "2021-06-05T12:07:26.366827Z",
     "iopub.status.idle": "2021-06-05T12:09:23.721522Z",
     "shell.execute_reply": "2021-06-05T12:09:23.722068Z",
     "shell.execute_reply.started": "2021-06-05T12:04:07.180701Z"
    },
    "papermill": {
     "duration": 117.441562,
     "end_time": "2021-06-05T12:09:23.722263",
     "exception": false,
     "start_time": "2021-06-05T12:07:26.280701",
     "status": "completed"
    },
    "tags": []
   },
   "outputs": [
    {
     "data": {
      "text/plain": [
       "GridSearchCV(cv=5,\n",
       "             estimator=RandomForestRegressor(max_features=None,\n",
       "                                             n_estimators=[100, 500, 2500],\n",
       "                                             oob_score=True, random_state=34),\n",
       "             n_jobs=-1, param_grid={'n_estimators': [100, 500, 2500]},\n",
       "             scoring=make_scorer(metrics, greater_is_better=False))"
      ]
     },
     "execution_count": 56,
     "metadata": {},
     "output_type": "execute_result"
    }
   ],
   "source": [
    "# setting the grid -search parameters \n",
    "\n",
    "nestimators=[100,500,2500]\n",
    "\n",
    "params_grid={'n_estimators':nestimators}\n",
    "\n",
    "regressor=RandomForestRegressor(n_estimators=nestimators,max_depth=None,random_state=34,max_features=None,oob_score=True)\n",
    "\n",
    "gridsearch=GridSearchCV(estimator=regressor,param_grid=params_grid,scoring=rmse,n_jobs=-1,cv=5)\n",
    "\n",
    "gridsearch.fit(x_train,y_train)\n"
   ]
  },
  {
   "cell_type": "code",
   "execution_count": 57,
   "id": "chinese-giving",
   "metadata": {
    "execution": {
     "iopub.execute_input": "2021-06-05T12:09:23.885624Z",
     "iopub.status.busy": "2021-06-05T12:09:23.884961Z",
     "iopub.status.idle": "2021-06-05T12:09:23.889611Z",
     "shell.execute_reply": "2021-06-05T12:09:23.890114Z",
     "shell.execute_reply.started": "2021-06-05T12:06:05.094661Z"
    },
    "papermill": {
     "duration": 0.088052,
     "end_time": "2021-06-05T12:09:23.890288",
     "exception": false,
     "start_time": "2021-06-05T12:09:23.802236",
     "status": "completed"
    },
    "tags": []
   },
   "outputs": [
    {
     "data": {
      "text/plain": [
       "{'n_estimators': 2500}"
      ]
     },
     "execution_count": 57,
     "metadata": {},
     "output_type": "execute_result"
    }
   ],
   "source": [
    "gridsearch.best_params_"
   ]
  },
  {
   "cell_type": "markdown",
   "id": "improved-placement",
   "metadata": {
    "papermill": {
     "duration": 0.081772,
     "end_time": "2021-06-05T12:09:24.053312",
     "exception": false,
     "start_time": "2021-06-05T12:09:23.971540",
     "status": "completed"
    },
    "tags": []
   },
   "source": [
    "## Prediction on training and validation data and testing the results"
   ]
  },
  {
   "cell_type": "code",
   "execution_count": 58,
   "id": "dense-sailing",
   "metadata": {
    "execution": {
     "iopub.execute_input": "2021-06-05T12:09:24.217048Z",
     "iopub.status.busy": "2021-06-05T12:09:24.216355Z",
     "iopub.status.idle": "2021-06-05T12:09:24.850205Z",
     "shell.execute_reply": "2021-06-05T12:09:24.849485Z",
     "shell.execute_reply.started": "2021-06-05T12:06:05.102751Z"
    },
    "papermill": {
     "duration": 0.716841,
     "end_time": "2021-06-05T12:09:24.850359",
     "exception": false,
     "start_time": "2021-06-05T12:09:24.133518",
     "status": "completed"
    },
    "tags": []
   },
   "outputs": [
    {
     "data": {
      "text/plain": [
       "0.05899048031773875"
      ]
     },
     "execution_count": 58,
     "metadata": {},
     "output_type": "execute_result"
    }
   ],
   "source": [
    "metrics(y_train,gridsearch.predict(x_train))"
   ]
  },
  {
   "cell_type": "code",
   "execution_count": 59,
   "id": "intensive-edgar",
   "metadata": {
    "execution": {
     "iopub.execute_input": "2021-06-05T12:09:25.022449Z",
     "iopub.status.busy": "2021-06-05T12:09:25.021710Z",
     "iopub.status.idle": "2021-06-05T12:09:25.414581Z",
     "shell.execute_reply": "2021-06-05T12:09:25.415099Z",
     "shell.execute_reply.started": "2021-06-05T12:06:05.753732Z"
    },
    "papermill": {
     "duration": 0.481723,
     "end_time": "2021-06-05T12:09:25.415288",
     "exception": false,
     "start_time": "2021-06-05T12:09:24.933565",
     "status": "completed"
    },
    "tags": []
   },
   "outputs": [
    {
     "data": {
      "text/plain": [
       "0.1612831735565945"
      ]
     },
     "execution_count": 59,
     "metadata": {},
     "output_type": "execute_result"
    }
   ],
   "source": [
    "predictions=gridsearch.predict(x_val)\n",
    "metrics(y_val,predictions)"
   ]
  },
  {
   "cell_type": "code",
   "execution_count": 60,
   "id": "fitted-louis",
   "metadata": {
    "execution": {
     "iopub.execute_input": "2021-06-05T12:09:25.586715Z",
     "iopub.status.busy": "2021-06-05T12:09:25.586062Z",
     "iopub.status.idle": "2021-06-05T12:09:26.358855Z",
     "shell.execute_reply": "2021-06-05T12:09:26.358116Z",
     "shell.execute_reply.started": "2021-06-05T12:06:06.166750Z"
    },
    "papermill": {
     "duration": 0.861053,
     "end_time": "2021-06-05T12:09:26.359004",
     "exception": false,
     "start_time": "2021-06-05T12:09:25.497951",
     "status": "completed"
    },
    "tags": []
   },
   "outputs": [],
   "source": [
    "test_predictions=gridsearch.predict(x_test)"
   ]
  },
  {
   "cell_type": "markdown",
   "id": "educated-church",
   "metadata": {
    "papermill": {
     "duration": 0.080969,
     "end_time": "2021-06-05T12:09:26.522069",
     "exception": false,
     "start_time": "2021-06-05T12:09:26.441100",
     "status": "completed"
    },
    "tags": []
   },
   "source": [
    "## Submission"
   ]
  },
  {
   "cell_type": "code",
   "execution_count": 61,
   "id": "increasing-cargo",
   "metadata": {
    "execution": {
     "iopub.execute_input": "2021-06-05T12:09:26.693598Z",
     "iopub.status.busy": "2021-06-05T12:09:26.692495Z",
     "iopub.status.idle": "2021-06-05T12:09:26.704239Z",
     "shell.execute_reply": "2021-06-05T12:09:26.703632Z",
     "shell.execute_reply.started": "2021-06-05T12:06:06.957029Z"
    },
    "papermill": {
     "duration": 0.100905,
     "end_time": "2021-06-05T12:09:26.704407",
     "exception": false,
     "start_time": "2021-06-05T12:09:26.603502",
     "status": "completed"
    },
    "tags": []
   },
   "outputs": [],
   "source": [
    "sub = pd.DataFrame()\n",
    "sub['Id'] = Id\n",
    "sub['SalePrice'] = test_predictions\n",
    "sub.to_csv('submission.csv',index=False)"
   ]
  }
 ],
 "metadata": {
  "kernelspec": {
   "display_name": "Python 3",
   "language": "python",
   "name": "python3"
  },
  "language_info": {
   "codemirror_mode": {
    "name": "ipython",
    "version": 3
   },
   "file_extension": ".py",
   "mimetype": "text/x-python",
   "name": "python",
   "nbconvert_exporter": "python",
   "pygments_lexer": "ipython3",
   "version": "3.7.9"
  },
  "papermill": {
   "default_parameters": {},
   "duration": 146.608009,
   "end_time": "2021-06-05T12:09:27.796750",
   "environment_variables": {},
   "exception": null,
   "input_path": "__notebook__.ipynb",
   "output_path": "__notebook__.ipynb",
   "parameters": {},
   "start_time": "2021-06-05T12:07:01.188741",
   "version": "2.3.2"
  }
 },
 "nbformat": 4,
 "nbformat_minor": 5
}
